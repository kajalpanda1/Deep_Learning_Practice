{
  "nbformat": 4,
  "nbformat_minor": 0,
  "metadata": {
    "colab": {
      "name": "Stacked_RNN.ipynb",
      "provenance": [],
      "collapsed_sections": []
    },
    "kernelspec": {
      "name": "python3",
      "display_name": "Python 3"
    },
    "accelerator": "GPU"
  },
  "cells": [
    {
      "cell_type": "code",
      "metadata": {
        "id": "h1erNsUMmxra"
      },
      "source": [
        "import numpy as np\n",
        "\n",
        "from sklearn.metrics import accuracy_score\n",
        "from keras.datasets import reuters\n",
        "from keras.preprocessing.sequence import pad_sequences\n",
        "from keras.utils import to_categorical\n",
        "from keras.models import Sequential\n",
        "from keras.layers import Dense, SimpleRNN, Activation\n",
        "from keras import optimizers\n",
        "from keras.wrappers.scikit_learn import KerasClassifier"
      ],
      "execution_count": null,
      "outputs": []
    },
    {
      "cell_type": "code",
      "metadata": {
        "id": "HE_oMjLNm4ZZ"
      },
      "source": [
        "# parameters for data load\n",
        "num_words = 30000\n",
        "maxlen = 50\n",
        "test_split = 0.3"
      ],
      "execution_count": null,
      "outputs": []
    },
    {
      "cell_type": "code",
      "metadata": {
        "id": "sjd7gDd3m8X2",
        "colab": {
          "base_uri": "https://localhost:8080/"
        },
        "outputId": "0a0cf96b-16d5-4a19-e24c-1ed98b163d77"
      },
      "source": [
        "(X_train, y_train), (X_test, y_test) = reuters.load_data(num_words = num_words, maxlen = maxlen, test_split = test_split)"
      ],
      "execution_count": null,
      "outputs": [
        {
          "output_type": "stream",
          "text": [
            "Downloading data from https://storage.googleapis.com/tensorflow/tf-keras-datasets/reuters.npz\n",
            "2113536/2110848 [==============================] - 0s 0us/step\n"
          ],
          "name": "stdout"
        }
      ]
    },
    {
      "cell_type": "code",
      "metadata": {
        "id": "vYawGZ5knAGJ",
        "colab": {
          "base_uri": "https://localhost:8080/"
        },
        "outputId": "678149db-78ed-44bb-d10c-6d24e2c67066"
      },
      "source": [
        "y_train.shape"
      ],
      "execution_count": null,
      "outputs": [
        {
          "output_type": "execute_result",
          "data": {
            "text/plain": [
              "(1395,)"
            ]
          },
          "metadata": {
            "tags": []
          },
          "execution_count": 4
        }
      ]
    },
    {
      "cell_type": "code",
      "metadata": {
        "id": "6Sy5EDcSnBfV"
      },
      "source": [
        "# pad the sequences with zeros \n",
        "# padding parameter is set to 'post' => 0's are appended to end of sequences\n",
        "X_train = pad_sequences(X_train, padding = 'post')\n",
        "X_test = pad_sequences(X_test, padding = 'post')"
      ],
      "execution_count": null,
      "outputs": []
    },
    {
      "cell_type": "code",
      "metadata": {
        "id": "KyFAYkrKnN1l"
      },
      "source": [
        "X_train = np.array(X_train).reshape((X_train.shape[0], X_train.shape[1], 1))\n",
        "X_test = np.array(X_test).reshape((X_test.shape[0], X_test.shape[1], 1))"
      ],
      "execution_count": null,
      "outputs": []
    },
    {
      "cell_type": "code",
      "metadata": {
        "id": "hKJanA5CnQ0T",
        "colab": {
          "base_uri": "https://localhost:8080/"
        },
        "outputId": "9a343ee7-b7bb-465e-a7a7-6d4a04acf9ab"
      },
      "source": [
        "print(X_train.shape)\n",
        "print(X_test.shape)"
      ],
      "execution_count": null,
      "outputs": [
        {
          "output_type": "stream",
          "text": [
            "(1395, 49, 1)\n",
            "(599, 49, 1)\n"
          ],
          "name": "stdout"
        }
      ]
    },
    {
      "cell_type": "code",
      "metadata": {
        "id": "S0alLcGRnS5O"
      },
      "source": [
        "y_data = np.concatenate((y_train, y_test))\n",
        "y_data = to_categorical(y_data)\n",
        "y_train = y_data[:1395]\n",
        "y_test = y_data[1395:]"
      ],
      "execution_count": null,
      "outputs": []
    },
    {
      "cell_type": "code",
      "metadata": {
        "id": "fGkqzGvSnVOs",
        "colab": {
          "base_uri": "https://localhost:8080/"
        },
        "outputId": "9f576509-92c6-468e-8024-5a15d1f320eb"
      },
      "source": [
        "print(y_train.shape)\n",
        "print(y_test.shape)"
      ],
      "execution_count": null,
      "outputs": [
        {
          "output_type": "stream",
          "text": [
            "(1395, 46)\n",
            "(599, 46)\n"
          ],
          "name": "stdout"
        }
      ]
    },
    {
      "cell_type": "code",
      "metadata": {
        "id": "-yzIy2HmnYKB"
      },
      "source": [
        "def stacked_vanilla_rnn():\n",
        "    model = Sequential()\n",
        "    model.add(SimpleRNN(50, input_shape = (49,1), return_sequences = True,dropout=0.2))   # return_sequences parameter has to be set True to stack\n",
        "    model.add(SimpleRNN(50, return_sequences = False,dropout=0.2))\n",
        "    model.add(Dense(46))\n",
        "    model.add(Activation('softmax'))\n",
        "    \n",
        "    adam = optimizers.Adam(lr = 0.001) ## lr= learinng rate\n",
        "    model.compile(loss = 'categorical_crossentropy', optimizer = adam, metrics = ['accuracy'])\n",
        "    \n",
        "    return model"
      ],
      "execution_count": null,
      "outputs": []
    },
    {
      "cell_type": "code",
      "metadata": {
        "id": "xi2zcPconahQ"
      },
      "source": [
        "model = KerasClassifier(build_fn = stacked_vanilla_rnn, epochs = 50, batch_size = 50, verbose = 1,validation_data=(X_test,y_test))"
      ],
      "execution_count": null,
      "outputs": []
    },
    {
      "cell_type": "code",
      "metadata": {
        "id": "GKHIQPp1ndlO",
        "colab": {
          "base_uri": "https://localhost:8080/"
        },
        "outputId": "b6d3205c-14f4-4c7d-94b4-4b393c46731d"
      },
      "source": [
        "history=model.fit(X_train, y_train)"
      ],
      "execution_count": null,
      "outputs": [
        {
          "output_type": "stream",
          "text": [
            "Epoch 1/50\n",
            "28/28 [==============================] - 2s 88ms/step - loss: 2.4288 - accuracy: 0.5355 - val_loss: 1.3482 - val_accuracy: 0.7479\n",
            "Epoch 2/50\n",
            "28/28 [==============================] - 2s 79ms/step - loss: 1.3077 - accuracy: 0.7147 - val_loss: 1.1786 - val_accuracy: 0.7479\n",
            "Epoch 3/50\n",
            "28/28 [==============================] - 2s 77ms/step - loss: 1.1955 - accuracy: 0.7147 - val_loss: 1.1548 - val_accuracy: 0.7479\n",
            "Epoch 4/50\n",
            "28/28 [==============================] - 2s 75ms/step - loss: 1.1739 - accuracy: 0.7147 - val_loss: 1.1499 - val_accuracy: 0.7479\n",
            "Epoch 5/50\n",
            "28/28 [==============================] - 2s 75ms/step - loss: 1.1625 - accuracy: 0.7147 - val_loss: 1.1462 - val_accuracy: 0.7479\n",
            "Epoch 6/50\n",
            "28/28 [==============================] - 2s 89ms/step - loss: 1.1606 - accuracy: 0.7147 - val_loss: 1.1384 - val_accuracy: 0.7479\n",
            "Epoch 7/50\n",
            "28/28 [==============================] - 2s 76ms/step - loss: 1.1579 - accuracy: 0.7147 - val_loss: 1.1434 - val_accuracy: 0.7479\n",
            "Epoch 8/50\n",
            "28/28 [==============================] - 2s 75ms/step - loss: 1.1558 - accuracy: 0.7147 - val_loss: 1.1377 - val_accuracy: 0.7479\n",
            "Epoch 9/50\n",
            "28/28 [==============================] - 2s 73ms/step - loss: 1.1505 - accuracy: 0.7147 - val_loss: 1.1423 - val_accuracy: 0.7479\n",
            "Epoch 10/50\n",
            "28/28 [==============================] - 2s 77ms/step - loss: 1.1447 - accuracy: 0.7147 - val_loss: 1.1358 - val_accuracy: 0.7479\n",
            "Epoch 11/50\n",
            "28/28 [==============================] - 2s 86ms/step - loss: 1.1257 - accuracy: 0.7147 - val_loss: 1.0995 - val_accuracy: 0.7479\n",
            "Epoch 12/50\n",
            "28/28 [==============================] - 2s 80ms/step - loss: 1.1090 - accuracy: 0.7147 - val_loss: 1.0897 - val_accuracy: 0.7479\n",
            "Epoch 13/50\n",
            "28/28 [==============================] - 2s 77ms/step - loss: 1.1036 - accuracy: 0.7140 - val_loss: 1.0927 - val_accuracy: 0.7479\n",
            "Epoch 14/50\n",
            "28/28 [==============================] - 2s 78ms/step - loss: 1.0971 - accuracy: 0.7140 - val_loss: 1.0881 - val_accuracy: 0.7479\n",
            "Epoch 15/50\n",
            "28/28 [==============================] - 2s 85ms/step - loss: 1.1026 - accuracy: 0.7147 - val_loss: 1.0896 - val_accuracy: 0.7479\n",
            "Epoch 16/50\n",
            "28/28 [==============================] - 2s 75ms/step - loss: 1.0873 - accuracy: 0.7104 - val_loss: 1.0911 - val_accuracy: 0.7479\n",
            "Epoch 17/50\n",
            "28/28 [==============================] - 2s 78ms/step - loss: 1.0824 - accuracy: 0.7154 - val_loss: 1.0838 - val_accuracy: 0.7479\n",
            "Epoch 18/50\n",
            "28/28 [==============================] - 2s 74ms/step - loss: 1.0774 - accuracy: 0.7133 - val_loss: 1.0832 - val_accuracy: 0.7479\n",
            "Epoch 19/50\n",
            "28/28 [==============================] - 2s 77ms/step - loss: 1.0760 - accuracy: 0.7147 - val_loss: 1.0872 - val_accuracy: 0.7479\n",
            "Epoch 20/50\n",
            "28/28 [==============================] - 2s 79ms/step - loss: 1.0741 - accuracy: 0.7147 - val_loss: 1.0844 - val_accuracy: 0.7479\n",
            "Epoch 21/50\n",
            "28/28 [==============================] - 2s 82ms/step - loss: 1.0755 - accuracy: 0.7147 - val_loss: 1.0866 - val_accuracy: 0.7479\n",
            "Epoch 22/50\n",
            "28/28 [==============================] - 2s 80ms/step - loss: 1.0696 - accuracy: 0.7147 - val_loss: 1.0860 - val_accuracy: 0.7479\n",
            "Epoch 23/50\n",
            "28/28 [==============================] - 2s 84ms/step - loss: 1.0698 - accuracy: 0.7147 - val_loss: 1.0840 - val_accuracy: 0.7479\n",
            "Epoch 24/50\n",
            "28/28 [==============================] - 2s 77ms/step - loss: 1.0713 - accuracy: 0.7133 - val_loss: 1.0779 - val_accuracy: 0.7479\n",
            "Epoch 25/50\n",
            "28/28 [==============================] - 2s 75ms/step - loss: 1.0651 - accuracy: 0.7154 - val_loss: 1.0891 - val_accuracy: 0.7479\n",
            "Epoch 26/50\n",
            "28/28 [==============================] - 2s 73ms/step - loss: 1.0530 - accuracy: 0.7140 - val_loss: 1.0848 - val_accuracy: 0.7479\n",
            "Epoch 27/50\n",
            "28/28 [==============================] - 2s 73ms/step - loss: 1.0659 - accuracy: 0.7133 - val_loss: 1.0978 - val_accuracy: 0.7479\n",
            "Epoch 28/50\n",
            "28/28 [==============================] - 2s 74ms/step - loss: 1.0629 - accuracy: 0.7118 - val_loss: 1.1098 - val_accuracy: 0.7479\n",
            "Epoch 29/50\n",
            "28/28 [==============================] - 2s 78ms/step - loss: 1.0551 - accuracy: 0.7147 - val_loss: 1.0945 - val_accuracy: 0.7479\n",
            "Epoch 30/50\n",
            "28/28 [==============================] - 2s 80ms/step - loss: 1.0521 - accuracy: 0.7161 - val_loss: 1.0902 - val_accuracy: 0.7479\n",
            "Epoch 31/50\n",
            "28/28 [==============================] - 2s 77ms/step - loss: 1.0535 - accuracy: 0.7154 - val_loss: 1.0874 - val_accuracy: 0.7479\n",
            "Epoch 32/50\n",
            "28/28 [==============================] - 2s 79ms/step - loss: 1.0434 - accuracy: 0.7147 - val_loss: 1.1022 - val_accuracy: 0.7462\n",
            "Epoch 33/50\n",
            "28/28 [==============================] - 2s 76ms/step - loss: 1.0453 - accuracy: 0.7140 - val_loss: 1.0978 - val_accuracy: 0.7462\n",
            "Epoch 34/50\n",
            "28/28 [==============================] - 2s 74ms/step - loss: 1.0418 - accuracy: 0.7133 - val_loss: 1.1002 - val_accuracy: 0.7462\n",
            "Epoch 35/50\n",
            "28/28 [==============================] - 2s 76ms/step - loss: 1.0477 - accuracy: 0.7168 - val_loss: 1.0995 - val_accuracy: 0.7462\n",
            "Epoch 36/50\n",
            "28/28 [==============================] - 2s 75ms/step - loss: 1.0368 - accuracy: 0.7111 - val_loss: 1.0969 - val_accuracy: 0.7462\n",
            "Epoch 37/50\n",
            "28/28 [==============================] - 2s 75ms/step - loss: 1.0387 - accuracy: 0.7147 - val_loss: 1.1018 - val_accuracy: 0.7479\n",
            "Epoch 38/50\n",
            "28/28 [==============================] - 2s 83ms/step - loss: 1.0384 - accuracy: 0.7161 - val_loss: 1.0992 - val_accuracy: 0.7479\n",
            "Epoch 39/50\n",
            "28/28 [==============================] - 2s 75ms/step - loss: 1.0362 - accuracy: 0.7125 - val_loss: 1.0978 - val_accuracy: 0.7479\n",
            "Epoch 40/50\n",
            "28/28 [==============================] - 2s 75ms/step - loss: 1.0387 - accuracy: 0.7118 - val_loss: 1.1053 - val_accuracy: 0.7479\n",
            "Epoch 41/50\n",
            "28/28 [==============================] - 2s 76ms/step - loss: 1.0326 - accuracy: 0.7097 - val_loss: 1.1066 - val_accuracy: 0.7479\n",
            "Epoch 42/50\n",
            "28/28 [==============================] - 2s 78ms/step - loss: 1.0344 - accuracy: 0.7125 - val_loss: 1.1146 - val_accuracy: 0.7479\n",
            "Epoch 43/50\n",
            "28/28 [==============================] - 2s 76ms/step - loss: 1.0411 - accuracy: 0.7133 - val_loss: 1.1248 - val_accuracy: 0.7312\n",
            "Epoch 44/50\n",
            "28/28 [==============================] - 2s 77ms/step - loss: 1.0352 - accuracy: 0.7161 - val_loss: 1.1118 - val_accuracy: 0.7479\n",
            "Epoch 45/50\n",
            "28/28 [==============================] - 2s 78ms/step - loss: 1.0260 - accuracy: 0.7075 - val_loss: 1.1073 - val_accuracy: 0.7479\n",
            "Epoch 46/50\n",
            "28/28 [==============================] - 2s 82ms/step - loss: 1.0307 - accuracy: 0.7125 - val_loss: 1.1100 - val_accuracy: 0.7462\n",
            "Epoch 47/50\n",
            "28/28 [==============================] - 2s 83ms/step - loss: 1.0274 - accuracy: 0.7090 - val_loss: 1.1066 - val_accuracy: 0.7479\n",
            "Epoch 48/50\n",
            "28/28 [==============================] - 2s 81ms/step - loss: 1.0237 - accuracy: 0.7154 - val_loss: 1.1166 - val_accuracy: 0.7479\n",
            "Epoch 49/50\n",
            "28/28 [==============================] - 2s 77ms/step - loss: 1.0237 - accuracy: 0.7090 - val_loss: 1.1139 - val_accuracy: 0.7462\n",
            "Epoch 50/50\n",
            "28/28 [==============================] - 2s 79ms/step - loss: 1.0281 - accuracy: 0.7047 - val_loss: 1.1117 - val_accuracy: 0.7479\n"
          ],
          "name": "stdout"
        }
      ]
    },
    {
      "cell_type": "code",
      "metadata": {
        "id": "SmsF1rWhlISq",
        "colab": {
          "base_uri": "https://localhost:8080/"
        },
        "outputId": "aca43072-8e86-46f8-e43f-ae0aba25d47c"
      },
      "source": [
        "# Plot history: Categorical crossentropy & Accuracy\n",
        "import matplotlib.pyplot as plt\n",
        "\n",
        "plt.plot(history.history['loss'], label='Categorical crossentropy (training data)')\n",
        "plt.plot(history.history['val_loss'], label='Categorical crossentropy (validation data)')\n",
        "plt.plot(history.history['accuracy'], label='Accuracy (training data)')\n",
        "plt.plot(history.history['val_accuracy'], label='Accuracy (validation data)')\n",
        "plt.title('Model performance for StackedRNN example')\n",
        "plt.ylabel('Loss value')\n",
        "plt.xlabel('No. epoch')\n",
        "plt.legend(loc=\"middle right\")\n",
        "plt.show()"
      ],
      "execution_count": null,
      "outputs": [
        {
          "output_type": "error",
          "ename": "NameError",
          "evalue": "ignored",
          "traceback": [
            "\u001b[0;31m---------------------------------------------------------------------------\u001b[0m",
            "\u001b[0;31mNameError\u001b[0m                                 Traceback (most recent call last)",
            "\u001b[0;32m<ipython-input-1-0f400162c39d>\u001b[0m in \u001b[0;36m<module>\u001b[0;34m()\u001b[0m\n\u001b[1;32m      2\u001b[0m \u001b[0;32mimport\u001b[0m \u001b[0mmatplotlib\u001b[0m\u001b[0;34m.\u001b[0m\u001b[0mpyplot\u001b[0m \u001b[0;32mas\u001b[0m \u001b[0mplt\u001b[0m\u001b[0;34m\u001b[0m\u001b[0;34m\u001b[0m\u001b[0m\n\u001b[1;32m      3\u001b[0m \u001b[0;34m\u001b[0m\u001b[0m\n\u001b[0;32m----> 4\u001b[0;31m \u001b[0mplt\u001b[0m\u001b[0;34m.\u001b[0m\u001b[0mplot\u001b[0m\u001b[0;34m(\u001b[0m\u001b[0mhistory\u001b[0m\u001b[0;34m.\u001b[0m\u001b[0mhistory\u001b[0m\u001b[0;34m[\u001b[0m\u001b[0;34m'loss'\u001b[0m\u001b[0;34m]\u001b[0m\u001b[0;34m,\u001b[0m \u001b[0mlabel\u001b[0m\u001b[0;34m=\u001b[0m\u001b[0;34m'Categorical crossentropy (training data)'\u001b[0m\u001b[0;34m)\u001b[0m\u001b[0;34m\u001b[0m\u001b[0;34m\u001b[0m\u001b[0m\n\u001b[0m\u001b[1;32m      5\u001b[0m \u001b[0mplt\u001b[0m\u001b[0;34m.\u001b[0m\u001b[0mplot\u001b[0m\u001b[0;34m(\u001b[0m\u001b[0mhistory\u001b[0m\u001b[0;34m.\u001b[0m\u001b[0mhistory\u001b[0m\u001b[0;34m[\u001b[0m\u001b[0;34m'val_loss'\u001b[0m\u001b[0;34m]\u001b[0m\u001b[0;34m,\u001b[0m \u001b[0mlabel\u001b[0m\u001b[0;34m=\u001b[0m\u001b[0;34m'Categorical crossentropy (validation data)'\u001b[0m\u001b[0;34m)\u001b[0m\u001b[0;34m\u001b[0m\u001b[0;34m\u001b[0m\u001b[0m\n\u001b[1;32m      6\u001b[0m \u001b[0mplt\u001b[0m\u001b[0;34m.\u001b[0m\u001b[0mplot\u001b[0m\u001b[0;34m(\u001b[0m\u001b[0mhistory\u001b[0m\u001b[0;34m.\u001b[0m\u001b[0mhistory\u001b[0m\u001b[0;34m[\u001b[0m\u001b[0;34m'accuracy'\u001b[0m\u001b[0;34m]\u001b[0m\u001b[0;34m,\u001b[0m \u001b[0mlabel\u001b[0m\u001b[0;34m=\u001b[0m\u001b[0;34m'Accuracy (training data)'\u001b[0m\u001b[0;34m)\u001b[0m\u001b[0;34m\u001b[0m\u001b[0;34m\u001b[0m\u001b[0m\n",
            "\u001b[0;31mNameError\u001b[0m: name 'history' is not defined"
          ]
        }
      ]
    }
  ]
}