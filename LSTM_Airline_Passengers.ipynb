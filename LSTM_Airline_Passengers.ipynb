{
  "nbformat": 4,
  "nbformat_minor": 0,
  "metadata": {
    "colab": {
      "name": "LSTM_Airline_Passengers.ipynb",
      "provenance": [],
      "collapsed_sections": []
    },
    "kernelspec": {
      "name": "python3",
      "display_name": "Python 3"
    },
    "accelerator": "GPU"
  },
  "cells": [
    {
      "cell_type": "code",
      "metadata": {
        "id": "WP89mJ3ZpjgI"
      },
      "source": [
        "# LSTM for international airline passengers problem with regression framing\n",
        "import numpy\n",
        "import matplotlib.pyplot as plt\n",
        "from pandas import read_csv\n",
        "import math\n",
        " \n",
        "from keras.models import Sequential\n",
        "from keras.layers import Dense\n",
        "from keras.layers import LSTM\n",
        "from sklearn.preprocessing import MinMaxScaler\n",
        "from sklearn.metrics import mean_squared_error"
      ],
      "execution_count": null,
      "outputs": []
    },
    {
      "cell_type": "code",
      "metadata": {
        "id": "TbU_Cry-qGZG"
      },
      "source": [
        "# convert an array of values into a dataset matrix\n",
        "def create_dataset(dataset, look_back=1):\n",
        "\tdataX, dataY = [], []\n",
        "\tfor i in range(len(dataset)-look_back-1):\n",
        "\t\ta = dataset[i:(i+look_back), 0]\n",
        "\t\tdataX.append(a)\n",
        "\t\tdataY.append(dataset[i + look_back, 0])\n",
        "\treturn numpy.array(dataX), numpy.array(dataY)"
      ],
      "execution_count": null,
      "outputs": []
    },
    {
      "cell_type": "code",
      "metadata": {
        "id": "yRIvfaLLqJWI"
      },
      "source": [
        "# fix random seed for reproducibility\n",
        "numpy.random.seed(7)"
      ],
      "execution_count": null,
      "outputs": []
    },
    {
      "cell_type": "code",
      "metadata": {
        "id": "cXeMkFqxqMTm"
      },
      "source": [
        "df=read_csv('https://raw.githubusercontent.com/kajalpanda1/DatasetRepository/master/Airline_Passengers.csv')"
      ],
      "execution_count": null,
      "outputs": []
    },
    {
      "cell_type": "code",
      "metadata": {
        "id": "OcPk6Yy9qeN2",
        "colab": {
          "base_uri": "https://localhost:8080/",
          "height": 204
        },
        "outputId": "070cbd85-ddeb-48a0-8dbf-ff6288536356"
      },
      "source": [
        "df.head()"
      ],
      "execution_count": null,
      "outputs": [
        {
          "output_type": "execute_result",
          "data": {
            "text/html": [
              "<div>\n",
              "<style scoped>\n",
              "    .dataframe tbody tr th:only-of-type {\n",
              "        vertical-align: middle;\n",
              "    }\n",
              "\n",
              "    .dataframe tbody tr th {\n",
              "        vertical-align: top;\n",
              "    }\n",
              "\n",
              "    .dataframe thead th {\n",
              "        text-align: right;\n",
              "    }\n",
              "</style>\n",
              "<table border=\"1\" class=\"dataframe\">\n",
              "  <thead>\n",
              "    <tr style=\"text-align: right;\">\n",
              "      <th></th>\n",
              "      <th>Month</th>\n",
              "      <th>Passengers</th>\n",
              "    </tr>\n",
              "  </thead>\n",
              "  <tbody>\n",
              "    <tr>\n",
              "      <th>0</th>\n",
              "      <td>1949-01</td>\n",
              "      <td>112</td>\n",
              "    </tr>\n",
              "    <tr>\n",
              "      <th>1</th>\n",
              "      <td>1949-02</td>\n",
              "      <td>118</td>\n",
              "    </tr>\n",
              "    <tr>\n",
              "      <th>2</th>\n",
              "      <td>1949-03</td>\n",
              "      <td>132</td>\n",
              "    </tr>\n",
              "    <tr>\n",
              "      <th>3</th>\n",
              "      <td>1949-04</td>\n",
              "      <td>129</td>\n",
              "    </tr>\n",
              "    <tr>\n",
              "      <th>4</th>\n",
              "      <td>1949-05</td>\n",
              "      <td>121</td>\n",
              "    </tr>\n",
              "  </tbody>\n",
              "</table>\n",
              "</div>"
            ],
            "text/plain": [
              "     Month  Passengers\n",
              "0  1949-01         112\n",
              "1  1949-02         118\n",
              "2  1949-03         132\n",
              "3  1949-04         129\n",
              "4  1949-05         121"
            ]
          },
          "metadata": {
            "tags": []
          },
          "execution_count": 32
        }
      ]
    },
    {
      "cell_type": "code",
      "metadata": {
        "id": "I0T0h55bqfmU",
        "colab": {
          "base_uri": "https://localhost:8080/",
          "height": 265
        },
        "outputId": "2d783dba-ad2a-4a44-8732-7320ed9e96c6"
      },
      "source": [
        "dataframe=df.iloc[:,1]\n",
        "plt.plot(dataframe)\n",
        "plt.show()"
      ],
      "execution_count": null,
      "outputs": [
        {
          "output_type": "display_data",
          "data": {
            "image/png": "[encoded data removed]",
            "text/plain": [
              "<Figure size 432x288 with 1 Axes>"
            ]
          },
          "metadata": {
            "tags": [],
            "needs_background": "light"
          }
        }
      ]
    },
    {
      "cell_type": "code",
      "metadata": {
        "id": "_WjBM--FqzmZ"
      },
      "source": [
        "dataset = dataframe.values\n",
        "dataset = dataset.astype('float32')"
      ],
      "execution_count": null,
      "outputs": []
    },
    {
      "cell_type": "code",
      "metadata": {
        "id": "m9P0VwsYqij5",
        "colab": {
          "base_uri": "https://localhost:8080/"
        },
        "outputId": "848874e5-7790-45b5-8500-d2ee6c0d219e"
      },
      "source": [
        "# normalize the dataset\n",
        "scaler = MinMaxScaler(feature_range=(0, 1))\n",
        "dataset = scaler.fit_transform(dataset.reshape(-1,1))\n",
        "dataset.shape"
      ],
      "execution_count": null,
      "outputs": [
        {
          "output_type": "execute_result",
          "data": {
            "text/plain": [
              "(144, 1)"
            ]
          },
          "metadata": {
            "tags": []
          },
          "execution_count": 35
        }
      ]
    },
    {
      "cell_type": "code",
      "metadata": {
        "id": "_GVlPGosqrvW"
      },
      "source": [
        "# split into train and test sets\n",
        "train_size = int(len(dataset) * 0.67)\n",
        "test_size = len(dataset) - train_size\n",
        "train, test = dataset[0:train_size,:], dataset[train_size:len(dataset),:]"
      ],
      "execution_count": null,
      "outputs": []
    },
    {
      "cell_type": "code",
      "metadata": {
        "id": "oNJQZaTdrdjI",
        "colab": {
          "base_uri": "https://localhost:8080/"
        },
        "outputId": "f83610de-a3da-48b7-bcc4-64ed79213d30"
      },
      "source": [
        "print(len(train),len(test))"
      ],
      "execution_count": null,
      "outputs": [
        {
          "output_type": "stream",
          "text": [
            "96 48\n"
          ],
          "name": "stdout"
        }
      ]
    },
    {
      "cell_type": "code",
      "metadata": {
        "id": "ajAG3jRvrfu9",
        "colab": {
          "base_uri": "https://localhost:8080/"
        },
        "outputId": "3c0227b0-ae6c-40e9-8844-b750cdbd8983"
      },
      "source": [
        "# reshape into X=t and Y=t+1\n",
        "look_back = 1\n",
        "trainX, trainY = create_dataset(train, look_back)\n",
        "testX, testY = create_dataset(test, look_back)\n",
        "# reshape input to be [samples, time steps, features]\n",
        "trainX = numpy.reshape(trainX, (trainX.shape[0], 1, trainX.shape[1]))\n",
        "testX = numpy.reshape(testX, (testX.shape[0], 1, testX.shape[1]))\n",
        "print(trainX.shape,trainY.shape)"
      ],
      "execution_count": null,
      "outputs": [
        {
          "output_type": "stream",
          "text": [
            "(94, 1, 1) (94,)\n"
          ],
          "name": "stdout"
        }
      ]
    },
    {
      "cell_type": "code",
      "metadata": {
        "id": "YWSUagaoriIY",
        "colab": {
          "base_uri": "https://localhost:8080/"
        },
        "outputId": "7698afdd-a4bd-4799-eb36-1b2a3c531ec1"
      },
      "source": [
        "print(trainX[0],trainY[0])"
      ],
      "execution_count": null,
      "outputs": [
        {
          "output_type": "stream",
          "text": [
            "[[0.01544401]] 0.027027026\n"
          ],
          "name": "stdout"
        }
      ]
    },
    {
      "cell_type": "code",
      "metadata": {
        "id": "KNU7MALbrlNa",
        "colab": {
          "base_uri": "https://localhost:8080/"
        },
        "outputId": "e64164f8-1591-4ae7-956f-61d6f0eec9ad"
      },
      "source": [
        "# create and fit the LSTM network\n",
        "model = Sequential()\n",
        "model.add(LSTM(4, input_shape=(1, look_back)))\n",
        "model.add(Dense(1))\n",
        "model.compile(loss='mean_squared_error', optimizer='adam')\n",
        "history=model.fit(trainX, trainY, epochs=100, batch_size=1, verbose=1,validation_data=(testX, testY))"
      ],
      "execution_count": null,
      "outputs": [
        {
          "output_type": "stream",
          "text": [
            "Epoch 1/100\n",
            "94/94 [==============================] - 1s 7ms/step - loss: 0.0370 - val_loss: 0.2030\n",
            "Epoch 2/100\n",
            "94/94 [==============================] - 0s 3ms/step - loss: 0.0174 - val_loss: 0.1356\n",
            "Epoch 3/100\n",
            "94/94 [==============================] - 0s 3ms/step - loss: 0.0126 - val_loss: 0.1041\n",
            "Epoch 4/100\n",
            "94/94 [==============================] - 0s 3ms/step - loss: 0.0115 - val_loss: 0.0911\n",
            "Epoch 5/100\n",
            "94/94 [==============================] - 0s 3ms/step - loss: 0.0106 - val_loss: 0.0845\n",
            "Epoch 6/100\n",
            "94/94 [==============================] - 0s 3ms/step - loss: 0.0096 - val_loss: 0.0745\n",
            "Epoch 7/100\n",
            "94/94 [==============================] - 0s 3ms/step - loss: 0.0085 - val_loss: 0.0601\n",
            "Epoch 8/100\n",
            "94/94 [==============================] - 0s 3ms/step - loss: 0.0073 - val_loss: 0.0535\n",
            "Epoch 9/100\n",
            "94/94 [==============================] - 0s 3ms/step - loss: 0.0061 - val_loss: 0.0440\n",
            "Epoch 10/100\n",
            "94/94 [==============================] - 0s 3ms/step - loss: 0.0051 - val_loss: 0.0313\n",
            "Epoch 11/100\n",
            "94/94 [==============================] - 0s 3ms/step - loss: 0.0042 - val_loss: 0.0253\n",
            "Epoch 12/100\n",
            "94/94 [==============================] - 0s 3ms/step - loss: 0.0034 - val_loss: 0.0197\n",
            "Epoch 13/100\n",
            "94/94 [==============================] - 0s 3ms/step - loss: 0.0029 - val_loss: 0.0151\n",
            "Epoch 14/100\n",
            "94/94 [==============================] - 0s 3ms/step - loss: 0.0025 - val_loss: 0.0126\n",
            "Epoch 15/100\n",
            "94/94 [==============================] - 0s 3ms/step - loss: 0.0023 - val_loss: 0.0108\n",
            "Epoch 16/100\n",
            "94/94 [==============================] - 0s 3ms/step - loss: 0.0021 - val_loss: 0.0108\n",
            "Epoch 17/100\n",
            "94/94 [==============================] - 0s 3ms/step - loss: 0.0021 - val_loss: 0.0090\n",
            "Epoch 18/100\n",
            "94/94 [==============================] - 0s 3ms/step - loss: 0.0020 - val_loss: 0.0090\n",
            "Epoch 19/100\n",
            "94/94 [==============================] - 0s 3ms/step - loss: 0.0020 - val_loss: 0.0089\n",
            "Epoch 20/100\n",
            "94/94 [==============================] - 0s 3ms/step - loss: 0.0021 - val_loss: 0.0088\n",
            "Epoch 21/100\n",
            "94/94 [==============================] - 0s 3ms/step - loss: 0.0021 - val_loss: 0.0084\n",
            "Epoch 22/100\n",
            "94/94 [==============================] - 0s 3ms/step - loss: 0.0020 - val_loss: 0.0089\n",
            "Epoch 23/100\n",
            "94/94 [==============================] - 0s 3ms/step - loss: 0.0020 - val_loss: 0.0085\n",
            "Epoch 24/100\n",
            "94/94 [==============================] - 0s 3ms/step - loss: 0.0020 - val_loss: 0.0085\n",
            "Epoch 25/100\n",
            "94/94 [==============================] - 0s 3ms/step - loss: 0.0021 - val_loss: 0.0089\n",
            "Epoch 26/100\n",
            "94/94 [==============================] - 0s 3ms/step - loss: 0.0020 - val_loss: 0.0090\n",
            "Epoch 27/100\n",
            "94/94 [==============================] - 0s 3ms/step - loss: 0.0020 - val_loss: 0.0087\n",
            "Epoch 28/100\n",
            "94/94 [==============================] - 0s 3ms/step - loss: 0.0020 - val_loss: 0.0088\n",
            "Epoch 29/100\n",
            "94/94 [==============================] - 0s 3ms/step - loss: 0.0020 - val_loss: 0.0085\n",
            "Epoch 30/100\n",
            "94/94 [==============================] - 0s 3ms/step - loss: 0.0020 - val_loss: 0.0082\n",
            "Epoch 31/100\n",
            "94/94 [==============================] - 0s 3ms/step - loss: 0.0020 - val_loss: 0.0081\n",
            "Epoch 32/100\n",
            "94/94 [==============================] - 0s 3ms/step - loss: 0.0020 - val_loss: 0.0088\n",
            "Epoch 33/100\n",
            "94/94 [==============================] - 0s 3ms/step - loss: 0.0021 - val_loss: 0.0089\n",
            "Epoch 34/100\n",
            "94/94 [==============================] - 0s 3ms/step - loss: 0.0020 - val_loss: 0.0087\n",
            "Epoch 35/100\n",
            "94/94 [==============================] - 0s 3ms/step - loss: 0.0020 - val_loss: 0.0083\n",
            "Epoch 36/100\n",
            "94/94 [==============================] - 0s 3ms/step - loss: 0.0020 - val_loss: 0.0088\n",
            "Epoch 37/100\n",
            "94/94 [==============================] - 0s 3ms/step - loss: 0.0020 - val_loss: 0.0084\n",
            "Epoch 38/100\n",
            "94/94 [==============================] - 0s 3ms/step - loss: 0.0019 - val_loss: 0.0093\n",
            "Epoch 39/100\n",
            "94/94 [==============================] - 0s 3ms/step - loss: 0.0020 - val_loss: 0.0084\n",
            "Epoch 40/100\n",
            "94/94 [==============================] - 0s 3ms/step - loss: 0.0020 - val_loss: 0.0096\n",
            "Epoch 41/100\n",
            "94/94 [==============================] - 0s 3ms/step - loss: 0.0020 - val_loss: 0.0082\n",
            "Epoch 42/100\n",
            "94/94 [==============================] - 0s 3ms/step - loss: 0.0020 - val_loss: 0.0088\n",
            "Epoch 43/100\n",
            "94/94 [==============================] - 0s 3ms/step - loss: 0.0020 - val_loss: 0.0086\n",
            "Epoch 44/100\n",
            "94/94 [==============================] - 0s 3ms/step - loss: 0.0020 - val_loss: 0.0081\n",
            "Epoch 45/100\n",
            "94/94 [==============================] - 0s 3ms/step - loss: 0.0019 - val_loss: 0.0101\n",
            "Epoch 46/100\n",
            "94/94 [==============================] - 0s 3ms/step - loss: 0.0020 - val_loss: 0.0083\n",
            "Epoch 47/100\n",
            "94/94 [==============================] - 0s 3ms/step - loss: 0.0020 - val_loss: 0.0085\n",
            "Epoch 48/100\n",
            "94/94 [==============================] - 0s 3ms/step - loss: 0.0020 - val_loss: 0.0084\n",
            "Epoch 49/100\n",
            "94/94 [==============================] - 0s 3ms/step - loss: 0.0020 - val_loss: 0.0085\n",
            "Epoch 50/100\n",
            "94/94 [==============================] - 0s 3ms/step - loss: 0.0020 - val_loss: 0.0091\n",
            "Epoch 51/100\n",
            "94/94 [==============================] - 0s 3ms/step - loss: 0.0020 - val_loss: 0.0086\n",
            "Epoch 52/100\n",
            "94/94 [==============================] - 0s 3ms/step - loss: 0.0020 - val_loss: 0.0087\n",
            "Epoch 53/100\n",
            "94/94 [==============================] - 0s 3ms/step - loss: 0.0021 - val_loss: 0.0088\n",
            "Epoch 54/100\n",
            "94/94 [==============================] - 0s 3ms/step - loss: 0.0020 - val_loss: 0.0087\n",
            "Epoch 55/100\n",
            "94/94 [==============================] - 0s 3ms/step - loss: 0.0021 - val_loss: 0.0089\n",
            "Epoch 56/100\n",
            "94/94 [==============================] - 0s 3ms/step - loss: 0.0020 - val_loss: 0.0086\n",
            "Epoch 57/100\n",
            "94/94 [==============================] - 0s 3ms/step - loss: 0.0020 - val_loss: 0.0083\n",
            "Epoch 58/100\n",
            "94/94 [==============================] - 0s 3ms/step - loss: 0.0020 - val_loss: 0.0088\n",
            "Epoch 59/100\n",
            "94/94 [==============================] - 0s 3ms/step - loss: 0.0020 - val_loss: 0.0087\n",
            "Epoch 60/100\n",
            "94/94 [==============================] - 0s 3ms/step - loss: 0.0020 - val_loss: 0.0087\n",
            "Epoch 61/100\n",
            "94/94 [==============================] - 0s 3ms/step - loss: 0.0020 - val_loss: 0.0090\n",
            "Epoch 62/100\n",
            "94/94 [==============================] - 0s 3ms/step - loss: 0.0019 - val_loss: 0.0098\n",
            "Epoch 63/100\n",
            "94/94 [==============================] - 0s 3ms/step - loss: 0.0020 - val_loss: 0.0089\n",
            "Epoch 64/100\n",
            "94/94 [==============================] - 0s 3ms/step - loss: 0.0020 - val_loss: 0.0091\n",
            "Epoch 65/100\n",
            "94/94 [==============================] - 0s 3ms/step - loss: 0.0020 - val_loss: 0.0090\n",
            "Epoch 66/100\n",
            "94/94 [==============================] - 0s 3ms/step - loss: 0.0021 - val_loss: 0.0087\n",
            "Epoch 67/100\n",
            "94/94 [==============================] - 0s 3ms/step - loss: 0.0021 - val_loss: 0.0090\n",
            "Epoch 68/100\n",
            "94/94 [==============================] - 0s 3ms/step - loss: 0.0020 - val_loss: 0.0083\n",
            "Epoch 69/100\n",
            "94/94 [==============================] - 0s 3ms/step - loss: 0.0021 - val_loss: 0.0093\n",
            "Epoch 70/100\n",
            "94/94 [==============================] - 0s 3ms/step - loss: 0.0019 - val_loss: 0.0083\n",
            "Epoch 71/100\n",
            "94/94 [==============================] - 0s 3ms/step - loss: 0.0021 - val_loss: 0.0088\n",
            "Epoch 72/100\n",
            "94/94 [==============================] - 0s 3ms/step - loss: 0.0020 - val_loss: 0.0094\n",
            "Epoch 73/100\n",
            "94/94 [==============================] - 0s 3ms/step - loss: 0.0020 - val_loss: 0.0088\n",
            "Epoch 74/100\n",
            "94/94 [==============================] - 0s 3ms/step - loss: 0.0021 - val_loss: 0.0093\n",
            "Epoch 75/100\n",
            "94/94 [==============================] - 0s 3ms/step - loss: 0.0020 - val_loss: 0.0094\n",
            "Epoch 76/100\n",
            "94/94 [==============================] - 0s 3ms/step - loss: 0.0021 - val_loss: 0.0089\n",
            "Epoch 77/100\n",
            "94/94 [==============================] - 0s 3ms/step - loss: 0.0020 - val_loss: 0.0101\n",
            "Epoch 78/100\n",
            "94/94 [==============================] - 0s 3ms/step - loss: 0.0020 - val_loss: 0.0091\n",
            "Epoch 79/100\n",
            "94/94 [==============================] - 0s 3ms/step - loss: 0.0021 - val_loss: 0.0088\n",
            "Epoch 80/100\n",
            "94/94 [==============================] - 0s 3ms/step - loss: 0.0020 - val_loss: 0.0085\n",
            "Epoch 81/100\n",
            "94/94 [==============================] - 0s 3ms/step - loss: 0.0020 - val_loss: 0.0092\n",
            "Epoch 82/100\n",
            "94/94 [==============================] - 0s 3ms/step - loss: 0.0020 - val_loss: 0.0087\n",
            "Epoch 83/100\n",
            "94/94 [==============================] - 0s 3ms/step - loss: 0.0020 - val_loss: 0.0092\n",
            "Epoch 84/100\n",
            "94/94 [==============================] - 0s 3ms/step - loss: 0.0020 - val_loss: 0.0093\n",
            "Epoch 85/100\n",
            "94/94 [==============================] - 0s 3ms/step - loss: 0.0020 - val_loss: 0.0080\n",
            "Epoch 86/100\n",
            "94/94 [==============================] - 0s 3ms/step - loss: 0.0021 - val_loss: 0.0090\n",
            "Epoch 87/100\n",
            "94/94 [==============================] - 0s 3ms/step - loss: 0.0020 - val_loss: 0.0088\n",
            "Epoch 88/100\n",
            "94/94 [==============================] - 0s 3ms/step - loss: 0.0020 - val_loss: 0.0085\n",
            "Epoch 89/100\n",
            "94/94 [==============================] - 0s 3ms/step - loss: 0.0020 - val_loss: 0.0089\n",
            "Epoch 90/100\n",
            "94/94 [==============================] - 0s 3ms/step - loss: 0.0020 - val_loss: 0.0094\n",
            "Epoch 91/100\n",
            "94/94 [==============================] - 0s 3ms/step - loss: 0.0020 - val_loss: 0.0089\n",
            "Epoch 92/100\n",
            "94/94 [==============================] - 0s 3ms/step - loss: 0.0020 - val_loss: 0.0085\n",
            "Epoch 93/100\n",
            "94/94 [==============================] - 0s 3ms/step - loss: 0.0020 - val_loss: 0.0090\n",
            "Epoch 94/100\n",
            "94/94 [==============================] - 0s 3ms/step - loss: 0.0020 - val_loss: 0.0093\n",
            "Epoch 95/100\n",
            "94/94 [==============================] - 0s 3ms/step - loss: 0.0020 - val_loss: 0.0085\n",
            "Epoch 96/100\n",
            "94/94 [==============================] - 0s 3ms/step - loss: 0.0021 - val_loss: 0.0096\n",
            "Epoch 97/100\n",
            "94/94 [==============================] - 0s 3ms/step - loss: 0.0021 - val_loss: 0.0093\n",
            "Epoch 98/100\n",
            "94/94 [==============================] - 0s 3ms/step - loss: 0.0020 - val_loss: 0.0092\n",
            "Epoch 99/100\n",
            "94/94 [==============================] - 0s 3ms/step - loss: 0.0021 - val_loss: 0.0084\n",
            "Epoch 100/100\n",
            "94/94 [==============================] - 0s 3ms/step - loss: 0.0020 - val_loss: 0.0095\n"
          ],
          "name": "stdout"
        }
      ]
    },
    {
      "cell_type": "code",
      "metadata": {
        "id": "eECWo_dWron3",
        "colab": {
          "base_uri": "https://localhost:8080/"
        },
        "outputId": "ad915039-2b46-412c-d5d7-92bce15034be"
      },
      "source": [
        "model.summary()"
      ],
      "execution_count": null,
      "outputs": [
        {
          "output_type": "stream",
          "text": [
            "Model: \"sequential_2\"\n",
            "_________________________________________________________________\n",
            "Layer (type)                 Output Shape              Param #   \n",
            "=================================================================\n",
            "lstm_2 (LSTM)                (None, 4)                 96        \n",
            "_________________________________________________________________\n",
            "dense_2 (Dense)              (None, 1)                 5         \n",
            "=================================================================\n",
            "Total params: 101\n",
            "Trainable params: 101\n",
            "Non-trainable params: 0\n",
            "_________________________________________________________________\n"
          ],
          "name": "stdout"
        }
      ]
    },
    {
      "cell_type": "code",
      "metadata": {
        "id": "A40BWovzs2HV",
        "colab": {
          "base_uri": "https://localhost:8080/",
          "height": 295
        },
        "outputId": "6fd135fb-5392-4a23-b459-db00d3ea9df1"
      },
      "source": [
        "# Plot history:\n",
        "\n",
        "plt.plot(history.history['loss'], label='MSE (training data)')\n",
        "plt.plot(history.history['val_loss'], label='MSE (validation data)')\n",
        "plt.title('Model performance for LSTM')\n",
        "plt.ylabel('Loss value')\n",
        "plt.xlabel('No. epoch')\n",
        "plt.legend(loc=\"upper right\")\n",
        "plt.show()"
      ],
      "execution_count": null,
      "outputs": [
        {
          "output_type": "display_data",
          "data": {
            "image/png": "[encoded data removed]",
            "text/plain": [
              "<Figure size 432x288 with 1 Axes>"
            ]
          },
          "metadata": {
            "tags": [],
            "needs_background": "light"
          }
        }
      ]
    },
    {
      "cell_type": "code",
      "metadata": {
        "id": "0g3VcaHGr7ml"
      },
      "source": [
        "# make predictions\n",
        "trainPredict = model.predict(trainX)\n",
        "testPredict = model.predict(testX)"
      ],
      "execution_count": null,
      "outputs": []
    },
    {
      "cell_type": "code",
      "metadata": {
        "id": "Wagjf5NGr_Re"
      },
      "source": [
        "# invert predictions\n",
        "trainPredict = scaler.inverse_transform(trainPredict)\n",
        "trainY = scaler.inverse_transform([trainY])\n",
        "testPredict = scaler.inverse_transform(testPredict)\n",
        "testY = scaler.inverse_transform([testY])"
      ],
      "execution_count": null,
      "outputs": []
    },
    {
      "cell_type": "code",
      "metadata": {
        "id": "TwpadOLHsBV6",
        "colab": {
          "base_uri": "https://localhost:8080/"
        },
        "outputId": "2f4d2a07-d172-4d8b-b4c3-c448f2bca3c2"
      },
      "source": [
        "# calculate root mean squared error\n",
        "trainScore = math.sqrt(mean_squared_error(trainY[0], trainPredict[:,0]))\n",
        "print('Train Score: %.2f RMSE' % (trainScore))\n",
        "testScore = math.sqrt(mean_squared_error(testY[0], testPredict[:,0]))\n",
        "print('Test Score: %.2f RMSE' % (testScore))"
      ],
      "execution_count": null,
      "outputs": [
        {
          "output_type": "stream",
          "text": [
            "Train Score: 22.78 RMSE\n",
            "Test Score: 50.62 RMSE\n"
          ],
          "name": "stdout"
        }
      ]
    },
    {
      "cell_type": "code",
      "metadata": {
        "id": "cSpWjtacsDy0",
        "colab": {
          "base_uri": "https://localhost:8080/"
        },
        "outputId": "5d699fdf-cb0f-4f9c-8ca1-e6af59725f4b"
      },
      "source": [
        "from sklearn.metrics import r2_score\n",
        "trainScore = r2_score(trainY[0], trainPredict[:,0])\n",
        "print('Train Score: %.2f R-square' % (trainScore))\n",
        "testScore = r2_score(testY[0], testPredict[:,0])\n",
        "print('Test Score: %.2f R-square' % (testScore))"
      ],
      "execution_count": null,
      "outputs": [
        {
          "output_type": "stream",
          "text": [
            "Train Score: 0.90 R-square\n",
            "Test Score: 0.58 R-square\n"
          ],
          "name": "stdout"
        }
      ]
    },
    {
      "cell_type": "code",
      "metadata": {
        "id": "2LwTZO7kuSRj",
        "colab": {
          "base_uri": "https://localhost:8080/",
          "height": 265
        },
        "outputId": "dc583111-de1f-4f5b-84e5-32baf023ff12"
      },
      "source": [
        "# shift train predictions for plotting\n",
        "trainPredictPlot = numpy.empty_like(dataset) ## returns a new array of same shape and type as the given array\n",
        "trainPredictPlot.shape\n",
        "trainPredictPlot[:, :] = numpy.nan\n",
        "\n",
        "trainPredictPlot[look_back:len(trainPredict)+look_back, :] = trainPredict\n",
        "\n",
        "# shift test predictions for plotting\n",
        "testPredictPlot = numpy.empty_like(dataset)\n",
        "testPredictPlot[:, :] = numpy.nan\n",
        "testPredictPlot[len(trainPredict)+(look_back*2)+1:len(dataset)-1, :] = testPredict\n",
        "\n",
        "# plot baseline and predictions\n",
        "plt.plot(scaler.inverse_transform(dataset))\n",
        "plt.plot(trainPredictPlot)\n",
        "plt.plot(testPredictPlot)\n",
        "plt.show()"
      ],
      "execution_count": null,
      "outputs": [
        {
          "output_type": "display_data",
          "data": {
            "image/png": "[encoded data removed]",
            "text/plain": [
              "<Figure size 432x288 with 1 Axes>"
            ]
          },
          "metadata": {
            "tags": [],
            "needs_background": "light"
          }
        }
      ]
    }
  ]
}