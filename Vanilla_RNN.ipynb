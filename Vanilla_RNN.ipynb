{
  "nbformat": 4,
  "nbformat_minor": 0,
  "metadata": {
    "colab": {
      "name": "Vanilla_RNN.ipynb",
      "provenance": [],
      "collapsed_sections": []
    },
    "kernelspec": {
      "name": "python3",
      "display_name": "Python 3"
    },
    "accelerator": "GPU"
  },
  "cells": [
    {
      "cell_type": "markdown",
      "metadata": {
        "id": "RPei_ieRkfwr"
      },
      "source": [
        "-----------Problem Statement---------------------\n",
        "\n",
        "Reuters Newswire Topic Classification Dataset.\n",
        "\n",
        "It consists of 11,228 newswires from Reuters classified into 46 main topics. Features is a list of sequences which represents the newswire text.\n",
        "\n",
        "Labels is a list of integer labels from 1 to 90 which represents different categories."
      ]
    },
    {
      "cell_type": "code",
      "metadata": {
        "id": "VsQmN7q4kHC8"
      },
      "source": [
        "import numpy as np\n",
        "from sklearn.metrics import accuracy_score\n",
        "from keras.datasets import reuters\n",
        "from keras.preprocessing.sequence import pad_sequences\n",
        "from keras.utils import to_categorical\n",
        "from keras.models import Sequential\n",
        "from keras.layers import Dense, SimpleRNN, Activation\n",
        "from keras import optimizers\n",
        "from keras.wrappers.scikit_learn import KerasClassifier"
      ],
      "execution_count": null,
      "outputs": []
    },
    {
      "cell_type": "code",
      "metadata": {
        "id": "Yh_32OlgkYGQ"
      },
      "source": [
        "# parameters for data load\n",
        "## num_worsds: top most frequent words to consider;\n",
        "## maxlen= maximum sequence lengths to be considered, truncate long sequences.\n",
        "num_words = 30000\n",
        "maxlen = 50\n",
        "test_split = 0.3"
      ],
      "execution_count": null,
      "outputs": []
    },
    {
      "cell_type": "code",
      "metadata": {
        "id": "Z8doE1n4kj0u",
        "colab": {
          "base_uri": "https://localhost:8080/"
        },
        "outputId": "03125a59-49db-4376-ef74-fc993bcf2424"
      },
      "source": [
        "(X_train, y_train), (X_test, y_test) = reuters.load_data(num_words = num_words, maxlen = maxlen, test_split = test_split)\n",
        "print(X_train.shape)\n",
        "print(y_train.shape)\n",
        "\n",
        "print(X_test.shape)\n",
        "print(y_test.shape)"
      ],
      "execution_count": null,
      "outputs": [
        {
          "output_type": "stream",
          "text": [
            "Downloading data from https://storage.googleapis.com/tensorflow/tf-keras-datasets/reuters.npz\n",
            "2113536/2110848 [==============================] - 0s 0us/step\n",
            "(1395,)\n",
            "(1395,)\n",
            "(599,)\n",
            "(599,)\n"
          ],
          "name": "stdout"
        }
      ]
    },
    {
      "cell_type": "code",
      "metadata": {
        "id": "zLibV4crkmyM",
        "colab": {
          "base_uri": "https://localhost:8080/"
        },
        "outputId": "d4f1923b-59e9-4353-e17a-820a4aec4dfe"
      },
      "source": [
        "#pad_sequences transform a list into a 2D array\n",
        "# pad the sequences with zeros \n",
        "# padding parameter is set to 'post' => 0's are appended to end of sequences\n",
        "X_train = pad_sequences(X_train, padding = 'post')\n",
        "X_test = pad_sequences(X_test, padding = 'post')\n",
        "X_train[0]"
      ],
      "execution_count": null,
      "outputs": [
        {
          "output_type": "execute_result",
          "data": {
            "text/plain": [
              "array([   1,  245,  273,  207,  156,   53,   74,  160,   26,   14,   46,\n",
              "        296,   26,   39,   74, 2979, 3554,   14,   46, 4689, 4329,   86,\n",
              "         61, 3499, 4795,   14,   61,  451, 4329,   17,   12,    0,    0,\n",
              "          0,    0,    0,    0,    0,    0,    0,    0,    0,    0,    0,\n",
              "          0,    0,    0,    0,    0], dtype=int32)"
            ]
          },
          "metadata": {
            "tags": []
          },
          "execution_count": 4
        }
      ]
    },
    {
      "cell_type": "code",
      "metadata": {
        "id": "lgXO0PQhkpbb",
        "colab": {
          "base_uri": "https://localhost:8080/"
        },
        "outputId": "074ab473-914d-421f-e4ff-aed0b875bbdb"
      },
      "source": [
        "X_train.shape\n"
      ],
      "execution_count": null,
      "outputs": [
        {
          "output_type": "execute_result",
          "data": {
            "text/plain": [
              "(1395, 49)"
            ]
          },
          "metadata": {
            "tags": []
          },
          "execution_count": 5
        }
      ]
    },
    {
      "cell_type": "code",
      "metadata": {
        "id": "L-Okg09sksB1",
        "colab": {
          "base_uri": "https://localhost:8080/"
        },
        "outputId": "372f9890-d492-47d6-aabc-04f499668207"
      },
      "source": [
        "X_train = np.array(X_train).reshape((X_train.shape[0], X_train.shape[1], 1))\n",
        "X_test = np.array(X_test).reshape((X_test.shape[0], X_test.shape[1], 1))\n",
        "X_train.shape"
      ],
      "execution_count": null,
      "outputs": [
        {
          "output_type": "execute_result",
          "data": {
            "text/plain": [
              "(1395, 49, 1)"
            ]
          },
          "metadata": {
            "tags": []
          },
          "execution_count": 6
        }
      ]
    },
    {
      "cell_type": "code",
      "metadata": {
        "id": "P8NAp6_0kuPS"
      },
      "source": [
        "y_data = np.concatenate((y_train, y_test))\n",
        "y_data = to_categorical(y_data)\n",
        "y_train = y_data[:1395]\n",
        "y_test = y_data[1395:]"
      ],
      "execution_count": null,
      "outputs": []
    },
    {
      "cell_type": "code",
      "metadata": {
        "id": "mtyT2G_nkwRg",
        "colab": {
          "base_uri": "https://localhost:8080/"
        },
        "outputId": "0dd1333b-cf9d-4cb6-ff96-b3c2b8724c7a"
      },
      "source": [
        "print(y_train.shape)\n",
        "print(y_test.shape)"
      ],
      "execution_count": null,
      "outputs": [
        {
          "output_type": "stream",
          "text": [
            "(1395, 46)\n",
            "(599, 46)\n"
          ],
          "name": "stdout"
        }
      ]
    },
    {
      "cell_type": "code",
      "metadata": {
        "id": "13BH71v2kyP0",
        "colab": {
          "base_uri": "https://localhost:8080/"
        },
        "outputId": "1e5c4220-0dee-415d-d9de-e606b940ec2e"
      },
      "source": [
        "y_data[1,:]"
      ],
      "execution_count": null,
      "outputs": [
        {
          "output_type": "execute_result",
          "data": {
            "text/plain": [
              "array([0., 0., 0., 1., 0., 0., 0., 0., 0., 0., 0., 0., 0., 0., 0., 0., 0.,\n",
              "       0., 0., 0., 0., 0., 0., 0., 0., 0., 0., 0., 0., 0., 0., 0., 0., 0.,\n",
              "       0., 0., 0., 0., 0., 0., 0., 0., 0., 0., 0., 0.], dtype=float32)"
            ]
          },
          "metadata": {
            "tags": []
          },
          "execution_count": 9
        }
      ]
    },
    {
      "cell_type": "code",
      "metadata": {
        "id": "fur5opyek0tt"
      },
      "source": [
        "def vanilla_rnn():\n",
        "    model = Sequential()\n",
        "    model.add(SimpleRNN(40, input_shape = (49,1), return_sequences = False,dropout=0.2))\n",
        "    model.add(Dense(46)) #output layer \n",
        "    model.add(Activation('softmax'))\n",
        "    \n",
        "    adam = optimizers.Adam(lr = 0.001)\n",
        "    model.compile(loss = 'categorical_crossentropy', optimizer = adam, metrics = ['accuracy'])\n",
        "    \n",
        "    return model"
      ],
      "execution_count": null,
      "outputs": []
    },
    {
      "cell_type": "code",
      "metadata": {
        "id": "lEt2KnsalAsN",
        "colab": {
          "base_uri": "https://localhost:8080/"
        },
        "outputId": "5f3ee061-daf1-4353-ed5f-88bdbc1816a6"
      },
      "source": [
        "model = KerasClassifier(build_fn = vanilla_rnn, epochs = 100, batch_size = 50, verbose = 1,validation_data=(X_test,y_test))\n",
        "history=model.fit(X_train, y_train)"
      ],
      "execution_count": null,
      "outputs": [
        {
          "output_type": "stream",
          "text": [
            "Epoch 1/100\n",
            "28/28 [==============================] - 1s 44ms/step - loss: 3.1012 - accuracy: 0.3262 - val_loss: 2.1458 - val_accuracy: 0.7212\n",
            "Epoch 2/100\n",
            "28/28 [==============================] - 1s 38ms/step - loss: 1.5545 - accuracy: 0.7147 - val_loss: 1.2309 - val_accuracy: 0.7479\n",
            "Epoch 3/100\n",
            "28/28 [==============================] - 1s 36ms/step - loss: 1.2265 - accuracy: 0.7147 - val_loss: 1.1747 - val_accuracy: 0.7479\n",
            "Epoch 4/100\n",
            "28/28 [==============================] - 1s 37ms/step - loss: 1.1947 - accuracy: 0.7147 - val_loss: 1.1609 - val_accuracy: 0.7479\n",
            "Epoch 5/100\n",
            "28/28 [==============================] - 1s 37ms/step - loss: 1.1824 - accuracy: 0.7147 - val_loss: 1.1603 - val_accuracy: 0.7479\n",
            "Epoch 6/100\n",
            "28/28 [==============================] - 1s 38ms/step - loss: 1.1718 - accuracy: 0.7147 - val_loss: 1.1532 - val_accuracy: 0.7479\n",
            "Epoch 7/100\n",
            "28/28 [==============================] - 1s 36ms/step - loss: 1.1673 - accuracy: 0.7147 - val_loss: 1.1516 - val_accuracy: 0.7479\n",
            "Epoch 8/100\n",
            "28/28 [==============================] - 1s 37ms/step - loss: 1.1642 - accuracy: 0.7147 - val_loss: 1.1492 - val_accuracy: 0.7479\n",
            "Epoch 9/100\n",
            "28/28 [==============================] - 1s 38ms/step - loss: 1.1618 - accuracy: 0.7147 - val_loss: 1.1463 - val_accuracy: 0.7479\n",
            "Epoch 10/100\n",
            "28/28 [==============================] - 1s 38ms/step - loss: 1.1626 - accuracy: 0.7147 - val_loss: 1.1549 - val_accuracy: 0.7479\n",
            "Epoch 11/100\n",
            "28/28 [==============================] - 1s 38ms/step - loss: 1.1603 - accuracy: 0.7147 - val_loss: 1.1440 - val_accuracy: 0.7479\n",
            "Epoch 12/100\n",
            "28/28 [==============================] - 1s 38ms/step - loss: 1.1557 - accuracy: 0.7147 - val_loss: 1.1475 - val_accuracy: 0.7479\n",
            "Epoch 13/100\n",
            "28/28 [==============================] - 1s 38ms/step - loss: 1.1575 - accuracy: 0.7147 - val_loss: 1.1432 - val_accuracy: 0.7479\n",
            "Epoch 14/100\n",
            "28/28 [==============================] - 1s 38ms/step - loss: 1.1551 - accuracy: 0.7147 - val_loss: 1.1482 - val_accuracy: 0.7479\n",
            "Epoch 15/100\n",
            "28/28 [==============================] - 1s 39ms/step - loss: 1.1540 - accuracy: 0.7147 - val_loss: 1.1434 - val_accuracy: 0.7479\n",
            "Epoch 16/100\n",
            "28/28 [==============================] - 1s 38ms/step - loss: 1.1532 - accuracy: 0.7147 - val_loss: 1.1491 - val_accuracy: 0.7479\n",
            "Epoch 17/100\n",
            "28/28 [==============================] - 1s 37ms/step - loss: 1.1531 - accuracy: 0.7147 - val_loss: 1.1425 - val_accuracy: 0.7479\n",
            "Epoch 18/100\n",
            "28/28 [==============================] - 1s 37ms/step - loss: 1.1514 - accuracy: 0.7147 - val_loss: 1.1439 - val_accuracy: 0.7479\n",
            "Epoch 19/100\n",
            "28/28 [==============================] - 1s 37ms/step - loss: 1.1525 - accuracy: 0.7147 - val_loss: 1.1511 - val_accuracy: 0.7479\n",
            "Epoch 20/100\n",
            "28/28 [==============================] - 1s 39ms/step - loss: 1.1516 - accuracy: 0.7147 - val_loss: 1.1440 - val_accuracy: 0.7479\n",
            "Epoch 21/100\n",
            "28/28 [==============================] - 1s 39ms/step - loss: 1.1478 - accuracy: 0.7147 - val_loss: 1.1476 - val_accuracy: 0.7479\n",
            "Epoch 22/100\n",
            "28/28 [==============================] - 1s 37ms/step - loss: 1.1484 - accuracy: 0.7147 - val_loss: 1.1429 - val_accuracy: 0.7479\n",
            "Epoch 23/100\n",
            "28/28 [==============================] - 1s 38ms/step - loss: 1.1497 - accuracy: 0.7147 - val_loss: 1.1492 - val_accuracy: 0.7479\n",
            "Epoch 24/100\n",
            "28/28 [==============================] - 1s 38ms/step - loss: 1.1491 - accuracy: 0.7147 - val_loss: 1.1435 - val_accuracy: 0.7479\n",
            "Epoch 25/100\n",
            "28/28 [==============================] - 1s 37ms/step - loss: 1.1476 - accuracy: 0.7147 - val_loss: 1.1522 - val_accuracy: 0.7479\n",
            "Epoch 26/100\n",
            "28/28 [==============================] - 1s 38ms/step - loss: 1.1469 - accuracy: 0.7147 - val_loss: 1.1458 - val_accuracy: 0.7479\n",
            "Epoch 27/100\n",
            "28/28 [==============================] - 1s 38ms/step - loss: 1.1457 - accuracy: 0.7147 - val_loss: 1.1477 - val_accuracy: 0.7479\n",
            "Epoch 28/100\n",
            "28/28 [==============================] - 1s 37ms/step - loss: 1.1458 - accuracy: 0.7147 - val_loss: 1.1479 - val_accuracy: 0.7479\n",
            "Epoch 29/100\n",
            "28/28 [==============================] - 1s 38ms/step - loss: 1.1465 - accuracy: 0.7147 - val_loss: 1.1444 - val_accuracy: 0.7479\n",
            "Epoch 30/100\n",
            "28/28 [==============================] - 1s 37ms/step - loss: 1.1450 - accuracy: 0.7147 - val_loss: 1.1579 - val_accuracy: 0.7479\n",
            "Epoch 31/100\n",
            "28/28 [==============================] - 1s 38ms/step - loss: 1.1439 - accuracy: 0.7147 - val_loss: 1.1441 - val_accuracy: 0.7479\n",
            "Epoch 32/100\n",
            "28/28 [==============================] - 1s 38ms/step - loss: 1.1463 - accuracy: 0.7147 - val_loss: 1.1479 - val_accuracy: 0.7479\n",
            "Epoch 33/100\n",
            "28/28 [==============================] - 1s 38ms/step - loss: 1.1444 - accuracy: 0.7147 - val_loss: 1.1521 - val_accuracy: 0.7479\n",
            "Epoch 34/100\n",
            "28/28 [==============================] - 1s 37ms/step - loss: 1.1446 - accuracy: 0.7147 - val_loss: 1.1471 - val_accuracy: 0.7479\n",
            "Epoch 35/100\n",
            "28/28 [==============================] - 1s 36ms/step - loss: 1.1436 - accuracy: 0.7147 - val_loss: 1.1501 - val_accuracy: 0.7479\n",
            "Epoch 36/100\n",
            "28/28 [==============================] - 1s 37ms/step - loss: 1.1438 - accuracy: 0.7147 - val_loss: 1.1515 - val_accuracy: 0.7479\n",
            "Epoch 37/100\n",
            "28/28 [==============================] - 1s 38ms/step - loss: 1.1441 - accuracy: 0.7147 - val_loss: 1.1579 - val_accuracy: 0.7479\n",
            "Epoch 38/100\n",
            "28/28 [==============================] - 1s 38ms/step - loss: 1.1429 - accuracy: 0.7147 - val_loss: 1.1519 - val_accuracy: 0.7479\n",
            "Epoch 39/100\n",
            "28/28 [==============================] - 1s 36ms/step - loss: 1.1428 - accuracy: 0.7147 - val_loss: 1.1494 - val_accuracy: 0.7479\n",
            "Epoch 40/100\n",
            "28/28 [==============================] - 1s 39ms/step - loss: 1.1444 - accuracy: 0.7147 - val_loss: 1.1550 - val_accuracy: 0.7479\n",
            "Epoch 41/100\n",
            "28/28 [==============================] - 1s 38ms/step - loss: 1.1403 - accuracy: 0.7147 - val_loss: 1.1489 - val_accuracy: 0.7479\n",
            "Epoch 42/100\n",
            "28/28 [==============================] - 1s 37ms/step - loss: 1.1420 - accuracy: 0.7147 - val_loss: 1.1522 - val_accuracy: 0.7479\n",
            "Epoch 43/100\n",
            "28/28 [==============================] - 1s 38ms/step - loss: 1.1428 - accuracy: 0.7147 - val_loss: 1.1530 - val_accuracy: 0.7479\n",
            "Epoch 44/100\n",
            "28/28 [==============================] - 1s 38ms/step - loss: 1.1417 - accuracy: 0.7147 - val_loss: 1.1480 - val_accuracy: 0.7479\n",
            "Epoch 45/100\n",
            "28/28 [==============================] - 1s 37ms/step - loss: 1.1414 - accuracy: 0.7147 - val_loss: 1.1570 - val_accuracy: 0.7479\n",
            "Epoch 46/100\n",
            "28/28 [==============================] - 1s 38ms/step - loss: 1.1428 - accuracy: 0.7147 - val_loss: 1.1536 - val_accuracy: 0.7479\n",
            "Epoch 47/100\n",
            "28/28 [==============================] - 1s 37ms/step - loss: 1.1420 - accuracy: 0.7147 - val_loss: 1.1484 - val_accuracy: 0.7479\n",
            "Epoch 48/100\n",
            "28/28 [==============================] - 1s 38ms/step - loss: 1.1462 - accuracy: 0.7147 - val_loss: 1.1522 - val_accuracy: 0.7479\n",
            "Epoch 49/100\n",
            "28/28 [==============================] - 1s 38ms/step - loss: 1.1435 - accuracy: 0.7147 - val_loss: 1.1536 - val_accuracy: 0.7479\n",
            "Epoch 50/100\n",
            "28/28 [==============================] - 1s 38ms/step - loss: 1.1415 - accuracy: 0.7147 - val_loss: 1.1565 - val_accuracy: 0.7479\n",
            "Epoch 51/100\n",
            "28/28 [==============================] - 1s 37ms/step - loss: 1.1396 - accuracy: 0.7147 - val_loss: 1.1533 - val_accuracy: 0.7479\n",
            "Epoch 52/100\n",
            "28/28 [==============================] - 1s 37ms/step - loss: 1.1408 - accuracy: 0.7147 - val_loss: 1.1633 - val_accuracy: 0.7479\n",
            "Epoch 53/100\n",
            "28/28 [==============================] - 1s 37ms/step - loss: 1.1382 - accuracy: 0.7147 - val_loss: 1.1572 - val_accuracy: 0.7479\n",
            "Epoch 54/100\n",
            "28/28 [==============================] - 1s 38ms/step - loss: 1.1407 - accuracy: 0.7147 - val_loss: 1.1593 - val_accuracy: 0.7479\n",
            "Epoch 55/100\n",
            "28/28 [==============================] - 1s 37ms/step - loss: 1.1418 - accuracy: 0.7147 - val_loss: 1.1537 - val_accuracy: 0.7479\n",
            "Epoch 56/100\n",
            "28/28 [==============================] - 1s 38ms/step - loss: 1.1365 - accuracy: 0.7147 - val_loss: 1.1589 - val_accuracy: 0.7479\n",
            "Epoch 57/100\n",
            "28/28 [==============================] - 1s 38ms/step - loss: 1.1372 - accuracy: 0.7147 - val_loss: 1.1595 - val_accuracy: 0.7479\n",
            "Epoch 58/100\n",
            "28/28 [==============================] - 1s 38ms/step - loss: 1.1368 - accuracy: 0.7147 - val_loss: 1.1637 - val_accuracy: 0.7479\n",
            "Epoch 59/100\n",
            "28/28 [==============================] - 1s 39ms/step - loss: 1.1297 - accuracy: 0.7147 - val_loss: 1.1672 - val_accuracy: 0.7479\n",
            "Epoch 60/100\n",
            "28/28 [==============================] - 1s 38ms/step - loss: 1.1279 - accuracy: 0.7147 - val_loss: 1.1423 - val_accuracy: 0.7479\n",
            "Epoch 61/100\n",
            "28/28 [==============================] - 1s 38ms/step - loss: 1.1196 - accuracy: 0.7147 - val_loss: 1.1392 - val_accuracy: 0.7479\n",
            "Epoch 62/100\n",
            "28/28 [==============================] - 1s 37ms/step - loss: 1.1150 - accuracy: 0.7147 - val_loss: 1.1361 - val_accuracy: 0.7479\n",
            "Epoch 63/100\n",
            "28/28 [==============================] - 1s 38ms/step - loss: 1.1065 - accuracy: 0.7147 - val_loss: 1.1161 - val_accuracy: 0.7479\n",
            "Epoch 64/100\n",
            "28/28 [==============================] - 1s 38ms/step - loss: 1.0917 - accuracy: 0.7147 - val_loss: 1.1106 - val_accuracy: 0.7479\n",
            "Epoch 65/100\n",
            "28/28 [==============================] - 1s 38ms/step - loss: 1.0970 - accuracy: 0.7147 - val_loss: 1.1382 - val_accuracy: 0.7479\n",
            "Epoch 66/100\n",
            "28/28 [==============================] - 1s 38ms/step - loss: 1.0981 - accuracy: 0.7161 - val_loss: 1.1122 - val_accuracy: 0.7479\n",
            "Epoch 67/100\n",
            "28/28 [==============================] - 1s 38ms/step - loss: 1.1104 - accuracy: 0.7161 - val_loss: 1.1404 - val_accuracy: 0.7479\n",
            "Epoch 68/100\n",
            "28/28 [==============================] - 1s 39ms/step - loss: 1.1072 - accuracy: 0.7125 - val_loss: 1.1321 - val_accuracy: 0.7479\n",
            "Epoch 69/100\n",
            "28/28 [==============================] - 1s 38ms/step - loss: 1.0853 - accuracy: 0.7161 - val_loss: 1.1082 - val_accuracy: 0.7479\n",
            "Epoch 70/100\n",
            "28/28 [==============================] - 1s 38ms/step - loss: 1.1034 - accuracy: 0.7147 - val_loss: 1.1481 - val_accuracy: 0.7479\n",
            "Epoch 71/100\n",
            "28/28 [==============================] - 1s 37ms/step - loss: 1.1092 - accuracy: 0.7140 - val_loss: 1.1235 - val_accuracy: 0.7479\n",
            "Epoch 72/100\n",
            "28/28 [==============================] - 1s 38ms/step - loss: 1.0860 - accuracy: 0.7147 - val_loss: 1.1113 - val_accuracy: 0.7479\n",
            "Epoch 73/100\n",
            "28/28 [==============================] - 1s 37ms/step - loss: 1.0721 - accuracy: 0.7147 - val_loss: 1.1167 - val_accuracy: 0.7479\n",
            "Epoch 74/100\n",
            "28/28 [==============================] - 1s 39ms/step - loss: 1.0727 - accuracy: 0.7147 - val_loss: 1.1028 - val_accuracy: 0.7479\n",
            "Epoch 75/100\n",
            "28/28 [==============================] - 1s 38ms/step - loss: 1.0941 - accuracy: 0.7147 - val_loss: 1.1265 - val_accuracy: 0.7479\n",
            "Epoch 76/100\n",
            "28/28 [==============================] - 1s 38ms/step - loss: 1.0934 - accuracy: 0.7133 - val_loss: 1.1286 - val_accuracy: 0.7479\n",
            "Epoch 77/100\n",
            "28/28 [==============================] - 1s 38ms/step - loss: 1.0731 - accuracy: 0.7147 - val_loss: 1.1118 - val_accuracy: 0.7479\n",
            "Epoch 78/100\n",
            "28/28 [==============================] - 1s 38ms/step - loss: 1.0712 - accuracy: 0.7147 - val_loss: 1.1098 - val_accuracy: 0.7479\n",
            "Epoch 79/100\n",
            "28/28 [==============================] - 1s 38ms/step - loss: 1.0811 - accuracy: 0.7147 - val_loss: 1.1156 - val_accuracy: 0.7479\n",
            "Epoch 80/100\n",
            "28/28 [==============================] - 1s 38ms/step - loss: 1.0735 - accuracy: 0.7147 - val_loss: 1.1103 - val_accuracy: 0.7479\n",
            "Epoch 81/100\n",
            "28/28 [==============================] - 1s 37ms/step - loss: 1.0808 - accuracy: 0.7147 - val_loss: 1.1168 - val_accuracy: 0.7479\n",
            "Epoch 82/100\n",
            "28/28 [==============================] - 1s 37ms/step - loss: 1.0679 - accuracy: 0.7147 - val_loss: 1.1096 - val_accuracy: 0.7479\n",
            "Epoch 83/100\n",
            "28/28 [==============================] - 1s 37ms/step - loss: 1.0733 - accuracy: 0.7147 - val_loss: 1.1099 - val_accuracy: 0.7479\n",
            "Epoch 84/100\n",
            "28/28 [==============================] - 1s 38ms/step - loss: 1.0572 - accuracy: 0.7147 - val_loss: 1.1066 - val_accuracy: 0.7479\n",
            "Epoch 85/100\n",
            "28/28 [==============================] - 1s 37ms/step - loss: 1.0613 - accuracy: 0.7147 - val_loss: 1.1195 - val_accuracy: 0.7479\n",
            "Epoch 86/100\n",
            "28/28 [==============================] - 1s 38ms/step - loss: 1.0726 - accuracy: 0.7147 - val_loss: 1.1195 - val_accuracy: 0.7479\n",
            "Epoch 87/100\n",
            "28/28 [==============================] - 1s 38ms/step - loss: 1.0576 - accuracy: 0.7147 - val_loss: 1.1127 - val_accuracy: 0.7479\n",
            "Epoch 88/100\n",
            "28/28 [==============================] - 1s 38ms/step - loss: 1.0584 - accuracy: 0.7147 - val_loss: 1.1111 - val_accuracy: 0.7479\n",
            "Epoch 89/100\n",
            "28/28 [==============================] - 1s 40ms/step - loss: 1.0751 - accuracy: 0.7147 - val_loss: 1.1194 - val_accuracy: 0.7429\n",
            "Epoch 90/100\n",
            "28/28 [==============================] - 1s 37ms/step - loss: 1.0728 - accuracy: 0.7154 - val_loss: 1.1633 - val_accuracy: 0.7329\n",
            "Epoch 91/100\n",
            "28/28 [==============================] - 1s 38ms/step - loss: 1.0591 - accuracy: 0.7154 - val_loss: 1.1118 - val_accuracy: 0.7479\n",
            "Epoch 92/100\n",
            "28/28 [==============================] - 1s 37ms/step - loss: 1.0627 - accuracy: 0.7147 - val_loss: 1.1116 - val_accuracy: 0.7479\n",
            "Epoch 93/100\n",
            "28/28 [==============================] - 1s 37ms/step - loss: 1.0571 - accuracy: 0.7147 - val_loss: 1.1162 - val_accuracy: 0.7479\n",
            "Epoch 94/100\n",
            "28/28 [==============================] - 1s 37ms/step - loss: 1.0483 - accuracy: 0.7147 - val_loss: 1.1174 - val_accuracy: 0.7479\n",
            "Epoch 95/100\n",
            "28/28 [==============================] - 1s 38ms/step - loss: 1.0570 - accuracy: 0.7161 - val_loss: 1.1190 - val_accuracy: 0.7479\n",
            "Epoch 96/100\n",
            "28/28 [==============================] - 1s 38ms/step - loss: 1.0635 - accuracy: 0.7147 - val_loss: 1.1189 - val_accuracy: 0.7479\n",
            "Epoch 97/100\n",
            "28/28 [==============================] - 1s 39ms/step - loss: 1.0471 - accuracy: 0.7147 - val_loss: 1.1278 - val_accuracy: 0.7479\n",
            "Epoch 98/100\n",
            "28/28 [==============================] - 1s 38ms/step - loss: 1.0467 - accuracy: 0.7147 - val_loss: 1.1191 - val_accuracy: 0.7479\n",
            "Epoch 99/100\n",
            "28/28 [==============================] - 1s 38ms/step - loss: 1.0500 - accuracy: 0.7154 - val_loss: 1.1094 - val_accuracy: 0.7479\n",
            "Epoch 100/100\n",
            "28/28 [==============================] - 1s 37ms/step - loss: 1.0647 - accuracy: 0.7161 - val_loss: 1.1344 - val_accuracy: 0.7429\n"
          ],
          "name": "stdout"
        }
      ]
    },
    {
      "cell_type": "code",
      "metadata": {
        "id": "SmsF1rWhlISq",
        "colab": {
          "base_uri": "https://localhost:8080/",
          "height": 295
        },
        "outputId": "f735157f-afb6-4fb3-8b37-df82327875df"
      },
      "source": [
        "# Plot history: Categorical crossentropy & Accuracy\n",
        "import matplotlib.pyplot as plt\n",
        "\n",
        "plt.plot(history.history['loss'], label='Categorical crossentropy (training data)')\n",
        "plt.plot(history.history['val_loss'], label='Categorical crossentropy (validation data)')\n",
        "plt.plot(history.history['accuracy'], label='Accuracy (training data)')\n",
        "plt.plot(history.history['val_accuracy'], label='Accuracy (validation data)')\n",
        "plt.title('Model performance for SimpleRNN example')\n",
        "plt.ylabel('Loss value')\n",
        "plt.xlabel('No. epoch')\n",
        "plt.legend(loc=\"upper left\")\n",
        "plt.show()"
      ],
      "execution_count": null,
      "outputs": [
        {
          "output_type": "display_data",
          "data": {
            "image/png": "[encoded data removed]",
            "text/plain": [
              "<Figure size 432x288 with 1 Axes>"
            ]
          },
          "metadata": {
            "tags": [],
            "needs_background": "light"
          }
        }
      ]
    }
  ]
}