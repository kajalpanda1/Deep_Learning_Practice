{
  "nbformat": 4,
  "nbformat_minor": 0,
  "metadata": {
    "colab": {
      "name": "checkpoint_pimaIndianDiabetes.ipynb",
      "provenance": [],
      "collapsed_sections": []
    },
    "kernelspec": {
      "name": "python3",
      "display_name": "Python 3"
    }
  },
  "cells": [
    {
      "cell_type": "code",
      "metadata": {
        "id": "SaHvcpFpmj9D"
      },
      "source": [
        "import pandas as pd\n",
        "from keras.models import Sequential\n",
        "from keras.layers import Dense"
      ],
      "execution_count": null,
      "outputs": []
    },
    {
      "cell_type": "code",
      "metadata": {
        "id": "O2dA7Zs9m-9L",
        "colab": {
          "base_uri": "https://localhost:8080/",
          "height": 34
        },
        "outputId": "60183d6b-84c1-4fa2-efe5-f15e504f90d1"
      },
      "source": [
        "import os\n",
        "import tensorflow as tf\n",
        "from tensorflow import keras\n",
        "print(tf.version.VERSION)"
      ],
      "execution_count": null,
      "outputs": [
        {
          "output_type": "stream",
          "text": [
            "2.3.0\n"
          ],
          "name": "stdout"
        }
      ]
    },
    {
      "cell_type": "code",
      "metadata": {
        "id": "932-jcAinJUY"
      },
      "source": [
        "# load the dataset\n",
        "df=pd.read_csv('https://raw.githubusercontent.com/kajalpanda1/DatasetRepository/master/pima-indians-diabetes.csv')"
      ],
      "execution_count": null,
      "outputs": []
    },
    {
      "cell_type": "code",
      "metadata": {
        "id": "gi8slONRCBiv"
      },
      "source": [
        "# split into input (X) and output (y) variables\n",
        "X=df.iloc[:,0:8]\n",
        "y=df.iloc[:,8]"
      ],
      "execution_count": null,
      "outputs": []
    },
    {
      "cell_type": "code",
      "metadata": {
        "id": "5CEmcl9UuZE2"
      },
      "source": [
        "#standardizing features\n",
        "from sklearn.preprocessing import StandardScaler\n",
        "ss=StandardScaler()\n",
        "X=ss.fit_transform(X)"
      ],
      "execution_count": null,
      "outputs": []
    },
    {
      "cell_type": "code",
      "metadata": {
        "id": "_F7V3XZNKJV-"
      },
      "source": [
        "# define the keras model\n",
        "def create_model():\n",
        "  model=tf.keras.models.Sequential([\n",
        "    keras.layers.Dense(12,activation='relu',input_dim=8),\n",
        "    keras.layers.Dense(8,activation='relu'),\n",
        "    keras.layers.Dense(1,activation='sigmoid')\n",
        "  ])\n",
        "  model.compile(loss='binary_crossentropy', optimizer='adam', metrics=['accuracy'])\n",
        "  return model\n",
        "# Create a basic model instance\n",
        "model=create_model()"
      ],
      "execution_count": null,
      "outputs": []
    },
    {
      "cell_type": "code",
      "metadata": {
        "id": "kxP6dEyeKZg2",
        "colab": {
          "base_uri": "https://localhost:8080/",
          "height": 252
        },
        "outputId": "4beb1472-0a75-49cd-a962-e6bcba24cca7"
      },
      "source": [
        "# details of model\n",
        "model.summary()"
      ],
      "execution_count": null,
      "outputs": [
        {
          "output_type": "stream",
          "text": [
            "Model: \"sequential_3\"\n",
            "_________________________________________________________________\n",
            "Layer (type)                 Output Shape              Param #   \n",
            "=================================================================\n",
            "dense_9 (Dense)              (None, 12)                108       \n",
            "_________________________________________________________________\n",
            "dense_10 (Dense)             (None, 8)                 104       \n",
            "_________________________________________________________________\n",
            "dense_11 (Dense)             (None, 1)                 9         \n",
            "=================================================================\n",
            "Total params: 221\n",
            "Trainable params: 221\n",
            "Non-trainable params: 0\n",
            "_________________________________________________________________\n"
          ],
          "name": "stdout"
        }
      ]
    },
    {
      "cell_type": "code",
      "metadata": {
        "id": "NK1N-m3tofOr"
      },
      "source": [
        "#splitting training and testing dataset\n",
        "from sklearn.model_selection import train_test_split\n",
        "x_train,x_test,y_train,y_test=train_test_split(X,y,test_size=0.3)"
      ],
      "execution_count": null,
      "outputs": []
    },
    {
      "cell_type": "code",
      "metadata": {
        "id": "IFPuhwntH8VH",
        "colab": {
          "base_uri": "https://localhost:8080/",
          "height": 1000
        },
        "outputId": "f58d7a66-b9cd-4ea8-a9c1-5117344d19fb"
      },
      "source": [
        "checkpoint_path=\"training_1/cp.ckpt\"\n",
        "checkpoint_dir=os.path.dirname(checkpoint_path)\n",
        "\n",
        "# Create a callback that saves the model's weights\n",
        "cp_callback=tf.keras.callbacks.ModelCheckpoint(filepath=checkpoint_path,save_weights_only=True,verbose=1)\n",
        "\n",
        "# Train the model with the new callback\n",
        "model.fit(x_train,y_train,epochs=50,validation_data=(x_test,y_test),callbacks=[cp_callback]) # Pass callback to training"
      ],
      "execution_count": null,
      "outputs": [
        {
          "output_type": "stream",
          "text": [
            "Epoch 1/50\n",
            " 1/17 [>.............................] - ETA: 0s - loss: 0.4835 - accuracy: 0.7500\n",
            "Epoch 00001: saving model to training_1/cp.ckpt\n",
            "17/17 [==============================] - 0s 5ms/step - loss: 0.5190 - accuracy: 0.7444 - val_loss: 0.5414 - val_accuracy: 0.7229\n",
            "Epoch 2/50\n",
            " 1/17 [>.............................] - ETA: 0s - loss: 0.4718 - accuracy: 0.8438\n",
            "Epoch 00002: saving model to training_1/cp.ckpt\n",
            "17/17 [==============================] - 0s 3ms/step - loss: 0.5121 - accuracy: 0.7500 - val_loss: 0.5372 - val_accuracy: 0.7229\n",
            "Epoch 3/50\n",
            " 1/17 [>.............................] - ETA: 0s - loss: 0.4088 - accuracy: 0.8125\n",
            "Epoch 00003: saving model to training_1/cp.ckpt\n",
            "17/17 [==============================] - 0s 3ms/step - loss: 0.5045 - accuracy: 0.7612 - val_loss: 0.5318 - val_accuracy: 0.7316\n",
            "Epoch 4/50\n",
            " 1/17 [>.............................] - ETA: 0s - loss: 0.4892 - accuracy: 0.7812\n",
            "Epoch 00004: saving model to training_1/cp.ckpt\n",
            "17/17 [==============================] - 0s 3ms/step - loss: 0.4978 - accuracy: 0.7668 - val_loss: 0.5269 - val_accuracy: 0.7316\n",
            "Epoch 5/50\n",
            " 1/17 [>.............................] - ETA: 0s - loss: 0.5012 - accuracy: 0.7812\n",
            "Epoch 00005: saving model to training_1/cp.ckpt\n",
            "17/17 [==============================] - 0s 3ms/step - loss: 0.4915 - accuracy: 0.7705 - val_loss: 0.5218 - val_accuracy: 0.7273\n",
            "Epoch 6/50\n",
            " 1/17 [>.............................] - ETA: 0s - loss: 0.6777 - accuracy: 0.5938\n",
            "Epoch 00006: saving model to training_1/cp.ckpt\n",
            "17/17 [==============================] - 0s 3ms/step - loss: 0.4857 - accuracy: 0.7780 - val_loss: 0.5167 - val_accuracy: 0.7229\n",
            "Epoch 7/50\n",
            " 1/17 [>.............................] - ETA: 0s - loss: 0.5018 - accuracy: 0.6875\n",
            "Epoch 00007: saving model to training_1/cp.ckpt\n",
            "17/17 [==============================] - 0s 3ms/step - loss: 0.4811 - accuracy: 0.7780 - val_loss: 0.5127 - val_accuracy: 0.7273\n",
            "Epoch 8/50\n",
            " 1/17 [>.............................] - ETA: 0s - loss: 0.5526 - accuracy: 0.8125\n",
            "Epoch 00008: saving model to training_1/cp.ckpt\n",
            "17/17 [==============================] - 0s 3ms/step - loss: 0.4754 - accuracy: 0.7780 - val_loss: 0.5087 - val_accuracy: 0.7359\n",
            "Epoch 9/50\n",
            " 1/17 [>.............................] - ETA: 0s - loss: 0.4797 - accuracy: 0.7500\n",
            "Epoch 00009: saving model to training_1/cp.ckpt\n",
            "17/17 [==============================] - 0s 3ms/step - loss: 0.4712 - accuracy: 0.7799 - val_loss: 0.5061 - val_accuracy: 0.7359\n",
            "Epoch 10/50\n",
            " 1/17 [>.............................] - ETA: 0s - loss: 0.4990 - accuracy: 0.8125\n",
            "Epoch 00010: saving model to training_1/cp.ckpt\n",
            "17/17 [==============================] - 0s 3ms/step - loss: 0.4678 - accuracy: 0.7836 - val_loss: 0.5022 - val_accuracy: 0.7359\n",
            "Epoch 11/50\n",
            " 1/17 [>.............................] - ETA: 0s - loss: 0.4278 - accuracy: 0.8438\n",
            "Epoch 00011: saving model to training_1/cp.ckpt\n",
            "17/17 [==============================] - 0s 3ms/step - loss: 0.4640 - accuracy: 0.7892 - val_loss: 0.4997 - val_accuracy: 0.7446\n",
            "Epoch 12/50\n",
            " 1/17 [>.............................] - ETA: 0s - loss: 0.4793 - accuracy: 0.7812\n",
            "Epoch 00012: saving model to training_1/cp.ckpt\n",
            "17/17 [==============================] - 0s 3ms/step - loss: 0.4608 - accuracy: 0.7873 - val_loss: 0.4980 - val_accuracy: 0.7446\n",
            "Epoch 13/50\n",
            " 1/17 [>.............................] - ETA: 0s - loss: 0.3539 - accuracy: 0.8125\n",
            "Epoch 00013: saving model to training_1/cp.ckpt\n",
            "17/17 [==============================] - 0s 3ms/step - loss: 0.4581 - accuracy: 0.7873 - val_loss: 0.4954 - val_accuracy: 0.7489\n",
            "Epoch 14/50\n",
            " 1/17 [>.............................] - ETA: 0s - loss: 0.3707 - accuracy: 0.7812\n",
            "Epoch 00014: saving model to training_1/cp.ckpt\n",
            "17/17 [==============================] - 0s 3ms/step - loss: 0.4559 - accuracy: 0.7854 - val_loss: 0.4931 - val_accuracy: 0.7446\n",
            "Epoch 15/50\n",
            " 1/17 [>.............................] - ETA: 0s - loss: 0.4349 - accuracy: 0.7500\n",
            "Epoch 00015: saving model to training_1/cp.ckpt\n",
            "17/17 [==============================] - 0s 3ms/step - loss: 0.4530 - accuracy: 0.7892 - val_loss: 0.4930 - val_accuracy: 0.7489\n",
            "Epoch 16/50\n",
            " 1/17 [>.............................] - ETA: 0s - loss: 0.4867 - accuracy: 0.7500\n",
            "Epoch 00016: saving model to training_1/cp.ckpt\n",
            "17/17 [==============================] - 0s 3ms/step - loss: 0.4507 - accuracy: 0.7873 - val_loss: 0.4913 - val_accuracy: 0.7576\n",
            "Epoch 17/50\n",
            " 1/17 [>.............................] - ETA: 0s - loss: 0.5200 - accuracy: 0.7500\n",
            "Epoch 00017: saving model to training_1/cp.ckpt\n",
            "17/17 [==============================] - 0s 3ms/step - loss: 0.4491 - accuracy: 0.7892 - val_loss: 0.4906 - val_accuracy: 0.7576\n",
            "Epoch 18/50\n",
            " 1/17 [>.............................] - ETA: 0s - loss: 0.5410 - accuracy: 0.7500\n",
            "Epoch 00018: saving model to training_1/cp.ckpt\n",
            "17/17 [==============================] - 0s 3ms/step - loss: 0.4470 - accuracy: 0.7892 - val_loss: 0.4888 - val_accuracy: 0.7489\n",
            "Epoch 19/50\n",
            " 1/17 [>.............................] - ETA: 0s - loss: 0.4494 - accuracy: 0.7812\n",
            "Epoch 00019: saving model to training_1/cp.ckpt\n",
            "17/17 [==============================] - 0s 3ms/step - loss: 0.4454 - accuracy: 0.7873 - val_loss: 0.4883 - val_accuracy: 0.7489\n",
            "Epoch 20/50\n",
            " 1/17 [>.............................] - ETA: 0s - loss: 0.4641 - accuracy: 0.7812\n",
            "Epoch 00020: saving model to training_1/cp.ckpt\n",
            "17/17 [==============================] - 0s 3ms/step - loss: 0.4440 - accuracy: 0.7892 - val_loss: 0.4872 - val_accuracy: 0.7532\n",
            "Epoch 21/50\n",
            " 1/17 [>.............................] - ETA: 0s - loss: 0.6133 - accuracy: 0.7188\n",
            "Epoch 00021: saving model to training_1/cp.ckpt\n",
            "17/17 [==============================] - 0s 3ms/step - loss: 0.4434 - accuracy: 0.7892 - val_loss: 0.4876 - val_accuracy: 0.7576\n",
            "Epoch 22/50\n",
            " 1/17 [>.............................] - ETA: 0s - loss: 0.3302 - accuracy: 0.7812\n",
            "Epoch 00022: saving model to training_1/cp.ckpt\n",
            "17/17 [==============================] - 0s 3ms/step - loss: 0.4410 - accuracy: 0.7966 - val_loss: 0.4865 - val_accuracy: 0.7619\n",
            "Epoch 23/50\n",
            " 1/17 [>.............................] - ETA: 0s - loss: 0.3912 - accuracy: 0.7812\n",
            "Epoch 00023: saving model to training_1/cp.ckpt\n",
            "17/17 [==============================] - 0s 3ms/step - loss: 0.4399 - accuracy: 0.7892 - val_loss: 0.4869 - val_accuracy: 0.7619\n",
            "Epoch 24/50\n",
            " 1/17 [>.............................] - ETA: 0s - loss: 0.3405 - accuracy: 0.8125\n",
            "Epoch 00024: saving model to training_1/cp.ckpt\n",
            "17/17 [==============================] - 0s 3ms/step - loss: 0.4384 - accuracy: 0.7929 - val_loss: 0.4866 - val_accuracy: 0.7619\n",
            "Epoch 25/50\n",
            " 1/17 [>.............................] - ETA: 0s - loss: 0.4331 - accuracy: 0.7188\n",
            "Epoch 00025: saving model to training_1/cp.ckpt\n",
            "17/17 [==============================] - 0s 3ms/step - loss: 0.4369 - accuracy: 0.7948 - val_loss: 0.4865 - val_accuracy: 0.7619\n",
            "Epoch 26/50\n",
            " 1/17 [>.............................] - ETA: 0s - loss: 0.3869 - accuracy: 0.8438\n",
            "Epoch 00026: saving model to training_1/cp.ckpt\n",
            "17/17 [==============================] - 0s 3ms/step - loss: 0.4357 - accuracy: 0.7948 - val_loss: 0.4857 - val_accuracy: 0.7619\n",
            "Epoch 27/50\n",
            " 1/17 [>.............................] - ETA: 0s - loss: 0.4117 - accuracy: 0.8438\n",
            "Epoch 00027: saving model to training_1/cp.ckpt\n",
            "17/17 [==============================] - 0s 3ms/step - loss: 0.4346 - accuracy: 0.7966 - val_loss: 0.4852 - val_accuracy: 0.7619\n",
            "Epoch 28/50\n",
            " 1/17 [>.............................] - ETA: 0s - loss: 0.4243 - accuracy: 0.7812\n",
            "Epoch 00028: saving model to training_1/cp.ckpt\n",
            "17/17 [==============================] - 0s 3ms/step - loss: 0.4339 - accuracy: 0.7966 - val_loss: 0.4863 - val_accuracy: 0.7576\n",
            "Epoch 29/50\n",
            " 1/17 [>.............................] - ETA: 0s - loss: 0.5122 - accuracy: 0.7500\n",
            "Epoch 00029: saving model to training_1/cp.ckpt\n",
            "17/17 [==============================] - 0s 3ms/step - loss: 0.4325 - accuracy: 0.7966 - val_loss: 0.4860 - val_accuracy: 0.7532\n",
            "Epoch 30/50\n",
            " 1/17 [>.............................] - ETA: 0s - loss: 0.3997 - accuracy: 0.8125\n",
            "Epoch 00030: saving model to training_1/cp.ckpt\n",
            "17/17 [==============================] - 0s 3ms/step - loss: 0.4323 - accuracy: 0.7985 - val_loss: 0.4855 - val_accuracy: 0.7576\n",
            "Epoch 31/50\n",
            " 1/17 [>.............................] - ETA: 0s - loss: 0.5568 - accuracy: 0.6875\n",
            "Epoch 00031: saving model to training_1/cp.ckpt\n",
            "17/17 [==============================] - 0s 3ms/step - loss: 0.4323 - accuracy: 0.7948 - val_loss: 0.4862 - val_accuracy: 0.7576\n",
            "Epoch 32/50\n",
            " 1/17 [>.............................] - ETA: 0s - loss: 0.3372 - accuracy: 0.9062\n",
            "Epoch 00032: saving model to training_1/cp.ckpt\n",
            "17/17 [==============================] - 0s 3ms/step - loss: 0.4302 - accuracy: 0.7985 - val_loss: 0.4863 - val_accuracy: 0.7532\n",
            "Epoch 33/50\n",
            " 1/17 [>.............................] - ETA: 0s - loss: 0.3966 - accuracy: 0.8438\n",
            "Epoch 00033: saving model to training_1/cp.ckpt\n",
            "17/17 [==============================] - 0s 3ms/step - loss: 0.4295 - accuracy: 0.8004 - val_loss: 0.4869 - val_accuracy: 0.7532\n",
            "Epoch 34/50\n",
            " 1/17 [>.............................] - ETA: 0s - loss: 0.5019 - accuracy: 0.7812\n",
            "Epoch 00034: saving model to training_1/cp.ckpt\n",
            "17/17 [==============================] - 0s 3ms/step - loss: 0.4287 - accuracy: 0.8004 - val_loss: 0.4861 - val_accuracy: 0.7532\n",
            "Epoch 35/50\n",
            " 1/17 [>.............................] - ETA: 0s - loss: 0.3539 - accuracy: 0.8125\n",
            "Epoch 00035: saving model to training_1/cp.ckpt\n",
            "17/17 [==============================] - 0s 3ms/step - loss: 0.4285 - accuracy: 0.7985 - val_loss: 0.4857 - val_accuracy: 0.7532\n",
            "Epoch 36/50\n",
            " 1/17 [>.............................] - ETA: 0s - loss: 0.3801 - accuracy: 0.8125\n",
            "Epoch 00036: saving model to training_1/cp.ckpt\n",
            "17/17 [==============================] - 0s 3ms/step - loss: 0.4276 - accuracy: 0.8004 - val_loss: 0.4870 - val_accuracy: 0.7532\n",
            "Epoch 37/50\n",
            " 1/17 [>.............................] - ETA: 0s - loss: 0.5367 - accuracy: 0.6875\n",
            "Epoch 00037: saving model to training_1/cp.ckpt\n",
            "17/17 [==============================] - 0s 3ms/step - loss: 0.4264 - accuracy: 0.8004 - val_loss: 0.4863 - val_accuracy: 0.7532\n",
            "Epoch 38/50\n",
            " 1/17 [>.............................] - ETA: 0s - loss: 0.5942 - accuracy: 0.7812\n",
            "Epoch 00038: saving model to training_1/cp.ckpt\n",
            "17/17 [==============================] - 0s 3ms/step - loss: 0.4260 - accuracy: 0.8022 - val_loss: 0.4866 - val_accuracy: 0.7532\n",
            "Epoch 39/50\n",
            " 1/17 [>.............................] - ETA: 0s - loss: 0.5273 - accuracy: 0.7500\n",
            "Epoch 00039: saving model to training_1/cp.ckpt\n",
            "17/17 [==============================] - 0s 3ms/step - loss: 0.4253 - accuracy: 0.8004 - val_loss: 0.4875 - val_accuracy: 0.7532\n",
            "Epoch 40/50\n",
            " 1/17 [>.............................] - ETA: 0s - loss: 0.5225 - accuracy: 0.7188\n",
            "Epoch 00040: saving model to training_1/cp.ckpt\n",
            "17/17 [==============================] - 0s 3ms/step - loss: 0.4252 - accuracy: 0.8004 - val_loss: 0.4873 - val_accuracy: 0.7532\n",
            "Epoch 41/50\n",
            " 1/17 [>.............................] - ETA: 0s - loss: 0.4947 - accuracy: 0.8125\n",
            "Epoch 00041: saving model to training_1/cp.ckpt\n",
            "17/17 [==============================] - 0s 3ms/step - loss: 0.4244 - accuracy: 0.7985 - val_loss: 0.4872 - val_accuracy: 0.7532\n",
            "Epoch 42/50\n",
            " 1/17 [>.............................] - ETA: 0s - loss: 0.6637 - accuracy: 0.6875\n",
            "Epoch 00042: saving model to training_1/cp.ckpt\n",
            "17/17 [==============================] - 0s 3ms/step - loss: 0.4247 - accuracy: 0.8004 - val_loss: 0.4881 - val_accuracy: 0.7619\n",
            "Epoch 43/50\n",
            " 1/17 [>.............................] - ETA: 0s - loss: 0.2812 - accuracy: 0.8438\n",
            "Epoch 00043: saving model to training_1/cp.ckpt\n",
            "17/17 [==============================] - 0s 3ms/step - loss: 0.4237 - accuracy: 0.7948 - val_loss: 0.4882 - val_accuracy: 0.7532\n",
            "Epoch 44/50\n",
            " 1/17 [>.............................] - ETA: 0s - loss: 0.3567 - accuracy: 0.7812\n",
            "Epoch 00044: saving model to training_1/cp.ckpt\n",
            "17/17 [==============================] - 0s 3ms/step - loss: 0.4232 - accuracy: 0.7985 - val_loss: 0.4879 - val_accuracy: 0.7576\n",
            "Epoch 45/50\n",
            " 1/17 [>.............................] - ETA: 0s - loss: 0.4781 - accuracy: 0.6875\n",
            "Epoch 00045: saving model to training_1/cp.ckpt\n",
            "17/17 [==============================] - 0s 3ms/step - loss: 0.4224 - accuracy: 0.7948 - val_loss: 0.4894 - val_accuracy: 0.7532\n",
            "Epoch 46/50\n",
            " 1/17 [>.............................] - ETA: 0s - loss: 0.4895 - accuracy: 0.7500\n",
            "Epoch 00046: saving model to training_1/cp.ckpt\n",
            "17/17 [==============================] - 0s 3ms/step - loss: 0.4222 - accuracy: 0.7966 - val_loss: 0.4890 - val_accuracy: 0.7619\n",
            "Epoch 47/50\n",
            " 1/17 [>.............................] - ETA: 0s - loss: 0.3432 - accuracy: 0.8438\n",
            "Epoch 00047: saving model to training_1/cp.ckpt\n",
            "17/17 [==============================] - 0s 3ms/step - loss: 0.4216 - accuracy: 0.7948 - val_loss: 0.4887 - val_accuracy: 0.7619\n",
            "Epoch 48/50\n",
            " 1/17 [>.............................] - ETA: 0s - loss: 0.3525 - accuracy: 0.8750\n",
            "Epoch 00048: saving model to training_1/cp.ckpt\n",
            "17/17 [==============================] - 0s 3ms/step - loss: 0.4210 - accuracy: 0.7966 - val_loss: 0.4900 - val_accuracy: 0.7532\n",
            "Epoch 49/50\n",
            " 1/17 [>.............................] - ETA: 0s - loss: 0.4237 - accuracy: 0.7500\n",
            "Epoch 00049: saving model to training_1/cp.ckpt\n",
            "17/17 [==============================] - 0s 3ms/step - loss: 0.4203 - accuracy: 0.7966 - val_loss: 0.4901 - val_accuracy: 0.7576\n",
            "Epoch 50/50\n",
            " 1/17 [>.............................] - ETA: 0s - loss: 0.4667 - accuracy: 0.6875\n",
            "Epoch 00050: saving model to training_1/cp.ckpt\n",
            "17/17 [==============================] - 0s 3ms/step - loss: 0.4202 - accuracy: 0.7966 - val_loss: 0.4897 - val_accuracy: 0.7619\n"
          ],
          "name": "stdout"
        },
        {
          "output_type": "execute_result",
          "data": {
            "text/plain": [
              "<tensorflow.python.keras.callbacks.History at 0x7fd62dad7da0>"
            ]
          },
          "metadata": {
            "tags": []
          },
          "execution_count": 27
        }
      ]
    },
    {
      "cell_type": "code",
      "metadata": {
        "id": "PyWKOdxEotwa",
        "colab": {
          "base_uri": "https://localhost:8080/",
          "height": 50
        },
        "outputId": "4a119a98-1b94-4fd2-a58b-0f8edc088d13"
      },
      "source": [
        "# Create a basic model instance\n",
        "model1=create_model()\n",
        "# Evaluate the model\n",
        "loss, acc = model1.evaluate(x_test,y_test,verbose=2)\n",
        "print(\"Untrained model, accuracy: {:5.2f}%\".format(100*acc))"
      ],
      "execution_count": null,
      "outputs": [
        {
          "output_type": "stream",
          "text": [
            "8/8 - 0s - loss: 0.9888 - accuracy: 0.3636\n",
            "Untrained model, accuracy: 36.36%\n"
          ],
          "name": "stdout"
        }
      ]
    },
    {
      "cell_type": "code",
      "metadata": {
        "id": "7aD6y8Bho9xU",
        "colab": {
          "base_uri": "https://localhost:8080/",
          "height": 50
        },
        "outputId": "265dcb76-4778-45cd-e319-81206e27b98a"
      },
      "source": [
        "# Loads the weights\n",
        "model.load_weights(checkpoint_path)\n",
        "\n",
        "# Re-evaluate the model\n",
        "loss,acc=model.evaluate(x_test, y_test,verbose=2)\n",
        "print(\"Restored model, accuracy: {:5.2f}%\".format(100*acc))"
      ],
      "execution_count": null,
      "outputs": [
        {
          "output_type": "stream",
          "text": [
            "8/8 - 0s - loss: 0.4897 - accuracy: 0.7619\n",
            "Restored model, accuracy: 76.19%\n"
          ],
          "name": "stdout"
        }
      ]
    }
  ]
}