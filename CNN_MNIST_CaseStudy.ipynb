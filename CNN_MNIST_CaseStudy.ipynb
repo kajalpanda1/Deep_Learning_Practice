{
  "nbformat": 4,
  "nbformat_minor": 0,
  "metadata": {
    "colab": {
      "name": "CNN_MNIST_CaseStudy.ipynb",
      "provenance": [],
      "collapsed_sections": []
    },
    "kernelspec": {
      "name": "python3",
      "display_name": "Python 3"
    },
    "accelerator": "GPU"
  },
  "cells": [
    {
      "cell_type": "code",
      "metadata": {
        "id": "t9KspXuXt8ij",
        "colab": {
          "base_uri": "https://localhost:8080/"
        },
        "outputId": "afebc3e0-8955-4a62-f3c3-c59be9e7c413"
      },
      "source": [
        "from keras.datasets import mnist\n",
        "#download mnist data and split into train and test sets\n",
        "(X_train, y_train), (X_test, y_test) = mnist.load_data()"
      ],
      "execution_count": null,
      "outputs": [
        {
          "output_type": "stream",
          "text": [
            "Downloading data from https://storage.googleapis.com/tensorflow/tf-keras-datasets/mnist.npz\n",
            "11493376/11490434 [==============================] - 0s 0us/step\n"
          ],
          "name": "stdout"
        }
      ]
    },
    {
      "cell_type": "code",
      "metadata": {
        "id": "wRmdg8LV55xb",
        "colab": {
          "base_uri": "https://localhost:8080/",
          "height": 282
        },
        "outputId": "949ef601-7647-4099-8608-0e1c95fdb9bd"
      },
      "source": [
        "import matplotlib.pyplot as plt\n",
        "#plot the first image in the dataset\n",
        "plt.imshow(X_train[0])"
      ],
      "execution_count": null,
      "outputs": [
        {
          "output_type": "execute_result",
          "data": {
            "text/plain": [
              "<matplotlib.image.AxesImage at 0x7f39b8728c88>"
            ]
          },
          "metadata": {
            "tags": []
          },
          "execution_count": 2
        },
        {
          "output_type": "display_data",
          "data": {
            "image/png": "[encoded data removed]",
            "text/plain": [
              "<Figure size 432x288 with 1 Axes>"
            ]
          },
          "metadata": {
            "tags": [],
            "needs_background": "light"
          }
        }
      ]
    },
    {
      "cell_type": "code",
      "metadata": {
        "id": "GnfEaFCe6EeM",
        "colab": {
          "base_uri": "https://localhost:8080/"
        },
        "outputId": "931188f0-d74d-4ac6-d3cf-3c1ffae5a69b"
      },
      "source": [
        "#checking shape of single image\n",
        "X_train[0].shape"
      ],
      "execution_count": null,
      "outputs": [
        {
          "output_type": "execute_result",
          "data": {
            "text/plain": [
              "(28, 28)"
            ]
          },
          "metadata": {
            "tags": []
          },
          "execution_count": 3
        }
      ]
    },
    {
      "cell_type": "code",
      "metadata": {
        "id": "6FLlfvCU6FLL",
        "colab": {
          "base_uri": "https://localhost:8080/"
        },
        "outputId": "5eb18ece-0e68-451a-fa2d-9a17c0a41bd2"
      },
      "source": [
        "X_train.shape"
      ],
      "execution_count": null,
      "outputs": [
        {
          "output_type": "execute_result",
          "data": {
            "text/plain": [
              "(60000, 28, 28)"
            ]
          },
          "metadata": {
            "tags": []
          },
          "execution_count": 4
        }
      ]
    },
    {
      "cell_type": "code",
      "metadata": {
        "id": "L5DPkfY66HTj"
      },
      "source": [
        "#reshape data to fit model\n",
        "X_train = X_train.reshape(60000,28,28,1)#60000 for data points, 28x28=shape of each image, 1 is for the channel(color=grayscale)\n",
        "X_test = X_test.reshape(10000,28,28,1)"
      ],
      "execution_count": null,
      "outputs": []
    },
    {
      "cell_type": "code",
      "metadata": {
        "id": "nw4dfh6E6aKZ"
      },
      "source": [
        "from keras.utils import to_categorical\n",
        "#one-hot encode target column\n",
        "y_train = to_categorical(y_train)\n",
        "y_test = to_categorical(y_test)"
      ],
      "execution_count": null,
      "outputs": []
    },
    {
      "cell_type": "code",
      "metadata": {
        "id": "dUDa7G8l6ePW",
        "colab": {
          "base_uri": "https://localhost:8080/"
        },
        "outputId": "b960c1bf-f41a-43d4-e98e-73b7dcc117b8"
      },
      "source": [
        "y_train[0]#checking target value format"
      ],
      "execution_count": null,
      "outputs": [
        {
          "output_type": "execute_result",
          "data": {
            "text/plain": [
              "array([0., 0., 0., 0., 0., 1., 0., 0., 0., 0.], dtype=float32)"
            ]
          },
          "metadata": {
            "tags": []
          },
          "execution_count": 7
        }
      ]
    },
    {
      "cell_type": "code",
      "metadata": {
        "id": "L7XpmDzB6i-5"
      },
      "source": [
        "from keras.models import Sequential\n",
        "from keras.layers import Dense, Conv2D, Flatten\n",
        "#create model\n",
        "model = Sequential()\n",
        "#add model layers\n",
        "model.add(Conv2D(64, kernel_size=3, activation='relu', input_shape=(28,28,1)))#64 number of 3x3 filters::channel=1 as in input\n",
        "model.add(Conv2D(32, kernel_size=3, activation='relu'))#32 number of 3x3 filters::channel=64(from previous layer)\n",
        "model.add(Flatten())#flatten required to form neurons to pass to dense layer::24x24x32\n",
        "model.add(Dense(10, activation='softmax'))#params::24x24x32x10+10"
      ],
      "execution_count": null,
      "outputs": []
    },
    {
      "cell_type": "code",
      "metadata": {
        "id": "7qZHtkiM7E55",
        "colab": {
          "base_uri": "https://localhost:8080/"
        },
        "outputId": "eadc7c3a-4c7d-44b5-eff1-ce02e762bc36"
      },
      "source": [
        "model.summary()"
      ],
      "execution_count": null,
      "outputs": [
        {
          "output_type": "stream",
          "text": [
            "Model: \"sequential_7\"\n",
            "_________________________________________________________________\n",
            "Layer (type)                 Output Shape              Param #   \n",
            "=================================================================\n",
            "conv2d_20 (Conv2D)           (None, 26, 26, 64)        640       \n",
            "_________________________________________________________________\n",
            "conv2d_21 (Conv2D)           (None, 24, 24, 32)        18464     \n",
            "_________________________________________________________________\n",
            "flatten_7 (Flatten)          (None, 18432)             0         \n",
            "_________________________________________________________________\n",
            "dense_7 (Dense)              (None, 10)                184330    \n",
            "=================================================================\n",
            "Total params: 203,434\n",
            "Trainable params: 203,434\n",
            "Non-trainable params: 0\n",
            "_________________________________________________________________\n"
          ],
          "name": "stdout"
        }
      ]
    },
    {
      "cell_type": "code",
      "metadata": {
        "id": "LCXWsuBO7LIR"
      },
      "source": [
        "#compile model using accuracy to measure model performance\n",
        "model.compile(optimizer='adam', loss='categorical_crossentropy', metrics=['accuracy'])"
      ],
      "execution_count": null,
      "outputs": []
    },
    {
      "cell_type": "code",
      "metadata": {
        "id": "x1Z91TvQ7Oc6",
        "colab": {
          "base_uri": "https://localhost:8080/"
        },
        "outputId": "cf98bdae-5b40-4c50-9016-e8fceb67557c"
      },
      "source": [
        "#train the model\n",
        "model.fit(X_train, y_train, validation_data=(X_test, y_test), epochs=3)"
      ],
      "execution_count": null,
      "outputs": [
        {
          "output_type": "stream",
          "text": [
            "Epoch 1/3\n",
            "1875/1875 [==============================] - 6s 3ms/step - loss: 0.2282 - accuracy: 0.9525 - val_loss: 0.0822 - val_accuracy: 0.9734\n",
            "Epoch 2/3\n",
            "1875/1875 [==============================] - 5s 3ms/step - loss: 0.0710 - accuracy: 0.9786 - val_loss: 0.0844 - val_accuracy: 0.9775\n",
            "Epoch 3/3\n",
            "1875/1875 [==============================] - 5s 3ms/step - loss: 0.0462 - accuracy: 0.9850 - val_loss: 0.0919 - val_accuracy: 0.9765\n"
          ],
          "name": "stdout"
        },
        {
          "output_type": "execute_result",
          "data": {
            "text/plain": [
              "<tensorflow.python.keras.callbacks.History at 0x7f3944553198>"
            ]
          },
          "metadata": {
            "tags": []
          },
          "execution_count": 51
        }
      ]
    },
    {
      "cell_type": "code",
      "metadata": {
        "id": "cT1zOI1t7Zdu",
        "colab": {
          "base_uri": "https://localhost:8080/"
        },
        "outputId": "1f867fda-c5fb-42e8-cd46-9ee90ded48cc"
      },
      "source": [
        "print(\"Training Accuracy:\")\n",
        "train_loss,train_acc=model.evaluate(X_train,  y_train, verbose=2)\n",
        "print(\"Testing Accuracy:\")\n",
        "test_loss, test_acc = model.evaluate(X_test,  y_test, verbose=2)"
      ],
      "execution_count": null,
      "outputs": [
        {
          "output_type": "stream",
          "text": [
            "Training Accuracy:\n",
            "1875/1875 - 4s - loss: 0.0282 - accuracy: 0.9904\n",
            "Testing Accuracy:\n",
            "313/313 - 1s - loss: 0.0919 - accuracy: 0.9765\n"
          ],
          "name": "stdout"
        }
      ]
    },
    {
      "cell_type": "code",
      "metadata": {
        "id": "O0B36iwT7Qvj",
        "colab": {
          "base_uri": "https://localhost:8080/"
        },
        "outputId": "9d3740ca-e5b7-41e5-e7c0-67973755e08c"
      },
      "source": [
        "#predict first 4 images in the test set\n",
        "model.predict(X_test[:4])"
      ],
      "execution_count": null,
      "outputs": [
        {
          "output_type": "execute_result",
          "data": {
            "text/plain": [
              "array([[4.62389189e-11, 7.19137139e-14, 2.57905679e-08, 2.62828148e-10,\n",
              "        6.47184126e-18, 1.64318510e-13, 2.15323526e-15, 1.00000000e+00,\n",
              "        9.24095644e-09, 3.57048147e-09],\n",
              "       [2.95629232e-09, 3.62189341e-11, 1.00000000e+00, 1.63954031e-10,\n",
              "        1.25988131e-16, 9.72821559e-18, 2.87338731e-09, 2.84640869e-16,\n",
              "        6.20362858e-11, 1.32444689e-14],\n",
              "       [1.48322485e-07, 9.99740660e-01, 2.25951371e-05, 2.47477538e-10,\n",
              "        8.00869657e-06, 7.35461967e-08, 7.45274775e-08, 1.29154250e-06,\n",
              "        2.27139986e-04, 6.76452672e-10],\n",
              "       [9.99987006e-01, 3.06863963e-13, 7.14337034e-08, 3.92929938e-13,\n",
              "        1.41704296e-11, 5.36674982e-10, 2.63859707e-08, 2.66420830e-14,\n",
              "        2.19135750e-08, 1.28657575e-05]], dtype=float32)"
            ]
          },
          "metadata": {
            "tags": []
          },
          "execution_count": 53
        }
      ]
    },
    {
      "cell_type": "code",
      "metadata": {
        "id": "0WkueLQ27k7e",
        "colab": {
          "base_uri": "https://localhost:8080/"
        },
        "outputId": "ac1a0ca0-2e1d-466d-a796-50062ec7e890"
      },
      "source": [
        "#actual results for first 4 images in test set\n",
        "y_test[:4]"
      ],
      "execution_count": null,
      "outputs": [
        {
          "output_type": "execute_result",
          "data": {
            "text/plain": [
              "array([[0., 0., 0., 0., 0., 0., 0., 1., 0., 0.],\n",
              "       [0., 0., 1., 0., 0., 0., 0., 0., 0., 0.],\n",
              "       [0., 1., 0., 0., 0., 0., 0., 0., 0., 0.],\n",
              "       [1., 0., 0., 0., 0., 0., 0., 0., 0., 0.]], dtype=float32)"
            ]
          },
          "metadata": {
            "tags": []
          },
          "execution_count": 54
        }
      ]
    }
  ]
}